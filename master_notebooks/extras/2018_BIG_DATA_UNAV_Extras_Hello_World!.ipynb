{
 "cells": [
  {
   "cell_type": "markdown",
   "metadata": {},
   "source": [
    "---\n",
    "# Experto Big Data UNAV 2018 - Extras - Hello, World!\n",
    "---"
   ]
  },
  {
   "cell_type": "markdown",
   "metadata": {},
   "source": [
    "# Ejercicio"
   ]
  },
  {
   "cell_type": "markdown",
   "metadata": {},
   "source": [
    "El objetivo de este ejercicio es hacer una pequeña aplicación en Python con el típico ejemplo de Hello, World! pero con unas pequeñas modificaciones.\n",
    "\n",
    "Se trata de un ejercicio típico pero que nos permitirá aprender y consolidar muchos conceptos fundamentales posteriormente:\n",
    "\n",
    "* Imprimir por pantalla\n",
    "* Sintaxis básica\n",
    "* Manipulación y concatenación de Strings\n",
    "* Declaración y uso de variables\n",
    "* Aceptar input por parte del usuario de nuestra app\n",
    "\n",
    "Sin más dilación, vamos a ello.\n",
    "\n",
    "Lo primero, vamos a darle cierto formato a la salida para que tenga mejor \"pinta\"."
   ]
  },
  {
   "cell_type": "code",
   "execution_count": null,
   "metadata": {},
   "outputs": [],
   "source": [
    "print('------------------------------------------')\n",
    "print('              ¡HOLA MUNDO!                ')\n",
    "print('------------------------------------------')\n",
    "\n"
   ]
  },
  {
   "cell_type": "markdown",
   "metadata": {},
   "source": [
    "Perfecto, tiene buena pinta, vamos ahora a pedirle al usuario que introduzca su nombre, y lo mostraremos por pantalla también.\n"
   ]
  },
  {
   "cell_type": "code",
   "execution_count": null,
   "metadata": {},
   "outputs": [],
   "source": [
    "print('------------------------------------------')\n",
    "print('              ¡HOLA MUNDO!                ')\n",
    "print('------------------------------------------')\n",
    "\n",
    "\n",
    "input('¡Hola! ¿Cúal es tu nombre? ')"
   ]
  },
  {
   "cell_type": "markdown",
   "metadata": {},
   "source": [
    "Vamos a almancenar el nombre del usuario en una variable y veamos como podemos usar esta variable para sacar un nuevo mensaje para el usuario"
   ]
  },
  {
   "cell_type": "code",
   "execution_count": null,
   "metadata": {},
   "outputs": [],
   "source": [
    "print('------------------------------------------')\n",
    "print('              ¡HOLA MUNDO!                ')\n",
    "print('------------------------------------------')\n",
    "\n",
    "\n",
    "nombre = input('¡Hola! ¿Cúal es tu nombre? ')\n",
    "saludo = 'Encantado de conocerte, '\n",
    "print(saludo + nombre)"
   ]
  },
  {
   "cell_type": "markdown",
   "metadata": {},
   "source": [
    "Listo! Con esta sencilla aplicación hemos cubierto muchos conceptos que usaremos más adelante intensivamente.\n",
    "\n",
    "Como sugerencia, puedes probar a realizar algunos cambios\n",
    "\n",
    "¿Qué pasaría si usasemos un nombre compuesto? ¿Funcionaría?\n",
    "\n",
    "¿Podemos introducir cualquier longitud de carácteres como entrada?\n",
    "\n",
    "¿Cualquier combincación de caractéres es válida?\n",
    "\n",
    "¿Números o caracteres no alfanuméricos?\n",
    "\n",
    "¿Qué ocurre si intentas ejecutar este código en Python 2?"
   ]
  },
  {
   "cell_type": "code",
   "execution_count": null,
   "metadata": {},
   "outputs": [],
   "source": []
  }
 ],
 "metadata": {
  "kernelspec": {
   "display_name": "Python 3",
   "language": "python",
   "name": "python3"
  },
  "language_info": {
   "codemirror_mode": {
    "name": "ipython",
    "version": 3
   },
   "file_extension": ".py",
   "mimetype": "text/x-python",
   "name": "python",
   "nbconvert_exporter": "python",
   "pygments_lexer": "ipython3",
   "version": "3.5.2"
  }
 },
 "nbformat": 4,
 "nbformat_minor": 1
}
