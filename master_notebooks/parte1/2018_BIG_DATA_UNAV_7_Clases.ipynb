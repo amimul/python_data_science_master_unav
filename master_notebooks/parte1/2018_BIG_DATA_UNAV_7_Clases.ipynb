{
 "cells": [
  {
   "cell_type": "markdown",
   "metadata": {},
   "source": [
    "Clases\n",
    "====\n",
    "\n",
    "Hasta ahora, hemos aprendido sobre los tipos de datos básicos de Python: cadenas, números, listas, tuplas y diccionarios, así como funciones (aunque esto no es un tipo de de datos). En esta sección, aprenderemos sobre la última estructura de datos importante, las clases. Las clases son bastante diferentes de los otros tipos de datos, ya que son mucho más flexibles. Las clases permiten definir la información y el comportamiento que caracterizan todo lo que deseamos modelar en un programa. Las clases son un tema extenso, por lo que eb esta sección aprenderemos lo suficiente aquí para sumergirnos en proyectos que queramos comenzar.\n",
    "\n",
    "Hay muchos nuevos terminos a tener en cuenta cuando empezamos a aprender acerca de clases. Si estamos familiarizados con la programación orientada a objetos (OOP), esta será una lectura rápida sobre cómo Python se acerca a OOP. Si eres nuevo en la programación en general, aquí encontrarás muchas ideas nuevas. Simplemente comienza a leer, prueba los ejemplos en tu propia máquina y todo empezará a tener sentido a medida que avanzamos en la materia."
   ]
  },
  {
   "cell_type": "markdown",
   "metadata": {},
   "source": [
    "Índice\n",
    "====\n",
    "\n",
    "- [What are classes?](#What-are-classes?)\n",
    "- [Object-Oriented Terminology](#Object-Oriented-Terminology)\n",
    "    - [General terminology](#General-terminology)\n",
    "    - [A closer look at the Rocket class](#A-closer-look-at-the-Rocket-class)\n",
    "        - [The \\_\\_init\\_\\_() method](#The-__init__%28%29-method)\n",
    "        - [A simple method](#A-simple-method)\n",
    "        - [Making multiple objects from a class](#Making-multiple-objects-from-a-class)\n",
    "        - [A quick check-in](#A-quick-check-in)\n",
    "        - [Classes in Python 2.7](#Classes-in-Python-2.7)\n",
    "        - [Exercises](#Exercises-oop)\n",
    "- [Refining the Rocket class](#Refining-the-Rocket-class)\n",
    "    - [Accepting parameters for the \\_\\_init\\_\\_() method](#Accepting-parameters-for-the-__init__%28%29-method)\n",
    "    - [Accepting parameters in a method](#Accepting-parameters-in-a-method)\n",
    "    - [Adding a new method](#Adding-a-new-method)\n",
    "    - [Exercises](#Exercises-refining)\n",
    "- [Inheritance](#Inheritance)\n",
    "    - [The SpaceShuttle class](#The-SpaceShuttle-class)\n",
    "    - [Inheritance in Python 2.7](#Inheritance-in-Python-2.7)\n",
    "    - [Exercises](#Exercises-inheritance)\n",
    "- [Modules and classes](#Modules-and-classes)\n",
    "    - [Storing a single class in a module](#Storing-a-single-class-in-a-module)\n",
    "    - [Storing multiple classes in a module](#Storing-multiple-classes-in-a-module)\n",
    "    - [A number of ways to import modules and classes](#A-number-of-ways-to-import-modules-and-classes)\n",
    "    - [A module of functions](#A-module-of-functions)\n",
    "    - [Exercises](#Exercises-importing)\n",
    "- [Revisiting PEP 8](#Revisiting-PEP-8)\n",
    "    - [Imports](#Imports)\n",
    "    - [Module and class names](#Module-and-class-names)\n",
    "    - [Exercises](#Exercises-pep8)"
   ]
  },
  {
   "cell_type": "markdown",
   "metadata": {},
   "source": [
    "¿Qué son las clases?\n",
    "===========\n",
    "\n",
    "Las clases son una forma de combinar información y comportamiento. Por ejemplo, consideremos qué necesitarías hacer si estuvieras construyendo un cohete en un juego o en una simulación física. Una de las primeras cosas que querrá  es poder trazear del las coordenadas X e Y del cohete (como mínimo). Así es como se ve una simple clase Cohete en código:"
   ]
  },
  {
   "cell_type": "code",
   "execution_count": 11,
   "metadata": {},
   "outputs": [],
   "source": [
    "class Cohete():\n",
    "    # Clase que simula un cohete para un juego o simulaciones físicas\n",
    "    \n",
    "    def __init__(self):\n",
    "        # Cada cohete tiene unas coordenadas x e y \n",
    "        self.x = 0\n",
    "        self.y = 0"
   ]
  },
  {
   "cell_type": "markdown",
   "metadata": {},
   "source": [
    "\n",
    "Una de las primeras cosas que haces con una clase es definir el método **__init__()**. El método __init__() establece los valores para cualquier parámetro que deba definirse cuando se crea un objeto por primera vez. La parte *self* se explicará más adelante; básicamente, es una sintaxis que le permite acceder a una variable desde cualquier otro lugar de la clase. Este método se conoce como el \"constructor\".\n",
    "\n",
    "La clase Cohete almacena dos piezas de información hasta el momento, pero no puede hacer nada. El primer comportamiento para definir es el de subir de nivel o altura. Esto es lo que podría verse en el siguiente código:"
   ]
  },
  {
   "cell_type": "code",
   "execution_count": 10,
   "metadata": {},
   "outputs": [],
   "source": [
    "class Cohete():\n",
    "    # Clase que simula un cohete para un juego o simulaciones físicas\n",
    "    \n",
    "    def __init__(self):\n",
    "        # Cada cohete tiene unas coordenadas x e y \n",
    "        self.x = 0\n",
    "        self.y = 0\n",
    "        \n",
    "    def subir(self):\n",
    "        # Aumentar la coordenada Y del cohete en una unidad\n",
    "        self.y += 1"
   ]
  },
  {
   "cell_type": "markdown",
   "metadata": {},
   "source": [
    "\n",
    "La clase Cohete ahora puede almacenar cierta información, y puede hacer algo con ella también. Pero este código aún no ha creado un cohete. Así es como \"creamos un cohete\":"
   ]
  },
  {
   "cell_type": "code",
   "execution_count": 2,
   "metadata": {},
   "outputs": [
    {
     "name": "stdout",
     "output_type": "stream",
     "text": [
      "<__main__.Cohete object at 0x7f4244194470>\n"
     ]
    }
   ],
   "source": [
    "class Cohete():\n",
    "    # Clase que simula un cohete para un juego o simulaciones físicas\n",
    "    \n",
    "    def __init__(self):\n",
    "        # Cada cohete tiene unas coordenadas x e y \n",
    "        self.x = 0\n",
    "        self.y = 0\n",
    "        \n",
    "    def subir(self):\n",
    "        # Aumentar la coordenada Y del cohete en una unidad\n",
    "        self.y += 1\n",
    "\n",
    "# Creamos un objeto cohete\n",
    "mi_cohete = Cohete()\n",
    "print(mi_cohete)"
   ]
  },
  {
   "cell_type": "markdown",
   "metadata": {},
   "source": [
    "\n",
    "Para usar realmente una clase, creamos una variable como *mi_cohete*. Luego asignamos a esa variable el nombre de la clase y después paréntesis. Python crea un **objeto** de la clase Cohete. \n",
    "\n",
    "Un objeto es una instancia única de la clase Cohete; tiene una copia de cada una de las variables de la clase, y puede realizar cualquier acción que esté definida para la clase. En este caso, podemos ver que la variable mi_cohete es un objeto Cohete del archivo de programa **\\__main\\__**, que se almacena en una ubicación particular de la memoria.\n",
    "\n",
    "Una vez que hemos definido una clase, podemos N objetos de esa clase y usar sus métodos. Veámos cómo definir un cohete y hacer que comience a moverse hacia arriba:"
   ]
  },
  {
   "cell_type": "code",
   "execution_count": 3,
   "metadata": {},
   "outputs": [
    {
     "name": "stdout",
     "output_type": "stream",
     "text": [
      "Altitud de cohete: 0\n",
      "Altitud de cohete: 1\n",
      "Altitud de cohete: 2\n",
      "Altitud de cohete: 3\n",
      "Altitud de cohete: 4\n",
      "Altitud de cohete: 5\n",
      "Altitud de cohete: 6\n",
      "Altitud de cohete: 7\n",
      "Altitud de cohete: 8\n",
      "Altitud de cohete: 9\n",
      "Altitud de cohete: 10\n"
     ]
    }
   ],
   "source": [
    "class Cohete():\n",
    "    # Clase que simula un cohete para un juego o simulaciones físicas\n",
    "    \n",
    "    def __init__(self):\n",
    "        # Cada cohete tiene unas coordenadas x e y \n",
    "        self.x = 0\n",
    "        self.y = 0\n",
    "        \n",
    "    def subir(self):\n",
    "        # Aumentar la coordenada Y del cohete en una unidad\n",
    "        self.y += 1\n",
    "\n",
    "# Creamos un objeto cohete\n",
    "mi_cohete = Cohete()\n",
    "print('Altitud de cohete:', mi_cohete.y)\n",
    "\n",
    "for i in range(0, 10):\n",
    "    mi_cohete.subir()\n",
    "    print('Altitud de cohete:', mi_cohete.y)\n"
   ]
  },
  {
   "cell_type": "markdown",
   "metadata": {},
   "source": [
    "\n",
    "Para acceder a las variables o métodos de un objeto, debemos usar el nombre del objeto (la variable) y luego usar la notación *punto* \".\" para acceder a las variables y métodos. En nuestro caso, para obtener el valor y de *mi\\_cohete*, usamos *mi\\_cohete.y*. Para usar el método subir() en mi_cohete, escriba *mi\\_cohete.subir()*.\n",
    "\n",
    "Una vez que hemos definido una clase, podemos crear tantos objetos de esa clase como deseemos. Cada objeto es su propia instancia de esa clase, con sus propias variables separadas (salvo que las definamos como variables de clase, lo explicaremos más adelante). Todos los objetos son capaces de tener el mismo comportamiento, pero las acciones particulares de cada objeto no afectan a ninguno de los otros objetos. Así es como podemos hacer una simple flota de cohetes:"
   ]
  },
  {
   "cell_type": "code",
   "execution_count": 4,
   "metadata": {},
   "outputs": [
    {
     "name": "stdout",
     "output_type": "stream",
     "text": [
      "<__main__.Cohete object at 0x7f42441a0438>\n",
      "<__main__.Cohete object at 0x7f42441a0208>\n",
      "<__main__.Cohete object at 0x7f42441a0240>\n",
      "<__main__.Cohete object at 0x7f42441a0278>\n",
      "<__main__.Cohete object at 0x7f42441a02b0>\n"
     ]
    }
   ],
   "source": [
    "class Cohete():\n",
    "    # Clase que simula un cohete para un juego o simulaciones físicas\n",
    "    \n",
    "    def __init__(self):\n",
    "        # Cada cohete tiene unas coordenadas x e y \n",
    "        self.x = 0\n",
    "        self.y = 0\n",
    "        \n",
    "    def subir(self):\n",
    "        # Aumentar la coordenada Y del cohete en una unidad\n",
    "        self.y += 1\n",
    "        \n",
    "# Creamos una flota de 5 cohetes y lo almacenamos en una lista\n",
    "mis_cohetes = []\n",
    "for x in range(0,5):\n",
    "    nuevo_cohete = Cohete()\n",
    "    mis_cohetes.append(nuevo_cohete)\n",
    "\n",
    "# Mostramos que cada cohete efectivamente es un objeto distinto\n",
    "for cohete in mis_cohetes:\n",
    "    print(cohete)"
   ]
  },
  {
   "cell_type": "markdown",
   "metadata": {},
   "source": [
    "\n",
    "Aqui vemos como efectiavmente cada cohete es un objeto que apunta a zonas distintas de memoria, por lo tanto, son objetos distintos."
   ]
  },
  {
   "cell_type": "markdown",
   "metadata": {},
   "source": [
    "You can prove that each rocket has its own x and y values by moving just one of the rockets:"
   ]
  },
  {
   "cell_type": "markdown",
   "metadata": {},
   "source": [
    "The syntax for classes may not be very clear at this point, but consider for a moment how you might create a rocket without using classes. You might store the x and y values in a dictionary, but you would have to write a lot of ugly, hard-to-maintain code to manage even a small set of rockets. As more features become incorporated into the Rocket class, you will see how much more efficiently real-world objects can be modeled with classes than they could be using just lists and dictionaries."
   ]
  },
  {
   "cell_type": "markdown",
   "metadata": {},
   "source": [
    "Clases en Python 2.7\n",
    "-----------------------\n",
    "\n",
    "\n",
    "Cuando escribe una clase en Python 2.7, siempre debe incluir la palabra `object` entre paréntesis cuando definimos la clase. Esto asegura que nuestras clases de Python 2.7 actúen como las clases de Python 3, lo que será útil a medida que los proyectos se vuelven más complicados.\n",
    "\n",
    "La versión simple de la clase de cohete se vería así en Python 2.7:"
   ]
  },
  {
   "cell_type": "code",
   "execution_count": 2,
   "metadata": {
    "collapsed": true
   },
   "outputs": [],
   "source": [
    "class Cohete(object):\n",
    "    # Clase que simula un cohete para un juego o simulaciones físicas\n",
    "    \n",
    "    def __init__(self):\n",
    "        # Cada cohete tiene unas coordenadas x e y \n",
    "        self.x = 0\n",
    "        self.y = 0"
   ]
  },
  {
   "cell_type": "markdown",
   "metadata": {},
   "source": [
    "Esta sintáxis tambien es válida en Python 3"
   ]
  },
  {
   "cell_type": "markdown",
   "metadata": {},
   "source": [
    "Ejercicios\n",
    "------------\n",
    "\n",
    "\n",
    "#### Cohete sin clase\n",
    "- Usando solo lo que ya sabes, intenta escribir un programa que simule el ejemplo anterior sobre los cohetes.\n",
    "    - Almacenar los valores de x e y para un cohete.\n",
    "    - Almacenar los valores de x e y para cada cohete en un conjunto de 5 cohetes. Almacena estos 5 cohetes en una lista.\n",
    "    \n",
    "- No te extengas demasiado haciendo este ejercicio; en realidad es solo un ejercicio rápido para ayudar a comprender cuán útil es la estructura de clase, especialmente a medida que comenzemos a extender la clase Cohete."
   ]
  },
  {
   "cell_type": "markdown",
   "metadata": {},
   "source": [
    "Terminología de la Orientación a Objetos\n",
    "======================\n",
    "\n",
    "Las clases son parte de un paradigma de programación llamado **programación orientada a objetos**. La programación orientada a objetos, u OOP (Object Oriented Programming del inglés) para abreviar, se centra en la construcción de bloques reutilizables de código llamados clases. \n",
    "\n",
    "Cuando desea utilizar una clase en uno de sus programas, creamos un **objeto** de esa clase, que es de donde proviene la frase \"orientado a objetos\". Python no está en sí mismo vinculado a la programación orientada a objetos, ya que se puede usar para otras muchas cosas, pero usaremos objetos en la mayoría o en todos sus proyectos de Python. Para comprender las clases, debemos comprender parte del lenguaje que se usa en OOP."
   ]
  },
  {
   "cell_type": "markdown",
   "metadata": {},
   "source": [
    "Terminología general\n",
    "-----------------------\n",
    "\n",
    "Una **clase** es un conjunto de código que define los **atributos** y **comportamientos** (funciones o métodos) requeridos para modelar con precisión algo que necesitamos para nuestro programa. Podemos modelar algo del mundo real, como un cohete o una cuerda de guitarra, o podemos modelar algo de un mundo virtual como un cohete en un juego o un conjunto de leyes físicas para un motor de juego.\n",
    "\n",
    "Un **atributo** es una información. En el código, un atributo es solo una variable que es parte de una clase.\n",
    "\n",
    "Un **comportamiento** es una acción que se define dentro de una clase. Estos están formados por **métodos**, que son solo funciones que se definen para la clase.\n",
    "\n",
    "Un **objeto** es una instancia particular de una clase. Un objeto tiene un cierto conjunto de valores para todos los atributos (variables) en la clase. Podemos tener tantos objetos como deseemos para cualquier clase.\n"
   ]
  },
  {
   "cell_type": "markdown",
   "metadata": {},
   "source": [
    "Una revisión de la clase Cohete\n",
    "------------------------------------\n",
    "\n",
    "Ahora que hemos visto un ejemplo simple de una clase y que hemos aprendido algo de terminología OOP básica, será útil echar un vistazo más de cerca a la clase Cohete."
   ]
  },
  {
   "cell_type": "markdown",
   "metadata": {},
   "source": [
    "El método \\_\\_init\\_\\_()\n",
    "----------------------------\n",
    "\n",
    "Veamos el código inicial de codigo que definia la clase Cohete.\n"
   ]
  },
  {
   "cell_type": "code",
   "execution_count": 16,
   "metadata": {},
   "outputs": [],
   "source": [
    "class Cohete():\n",
    "    # Clase que simula un cohete para un juego o simulaciones físicas\n",
    "    \n",
    "    def __init__(self):\n",
    "        # Cada cohete tiene unas coordenadas x e y \n",
    "        self.x = 0\n",
    "        self.y = 0"
   ]
  },
  {
   "cell_type": "markdown",
   "metadata": {},
   "source": [
    "La primera línea muestra cómo se crea una clase en Python. La palabra clave **class** le dice a Python que se está a punto de definir una clase. Las reglas para nombrar una clase son las mismas reglas que aprendimos sobre cómo nombrar variables, pero existe una fuerte convención entre los programadores de Python de que las clases deberían nombrarse utilizando CamelCase. \n",
    "\n",
    "CamelCase es una convención en la que cada letra que comienza una palabra está en mayúscula, sin guiones bajos en el nombre. El nombre de la clase es seguido por un conjunto de paréntesis. Estos paréntesis estarán vacíos por ahora, pero más adelante pueden contener una clase en la que se basa la nueva clase. Por ejemplo, una clase en CamelCase podría ser EnviadorCorreo ó SuprimidorSpam.\n",
    " \n",
    "Es una buena práctica escribir un comentario al comienzo de tu clase, describiendo la clase. Hay una [sintaxis más formal] (http://www.python.org/dev/peps/pep-0257/) para documentar tus clases, pero no es obligatorio. Por ahora, solo escribe un comentario al comienzo de tu clase que resuma lo que quieres que haga la clase. Escribir más documentación formal para tus clases será más fácil en adelante si comienzas escribiendo comentarios simples ahora. Esta documentación, aparte de servinos de recordatorio, puede utilizarse para generar manuales de forma automática (si se hace bien).\n",
    "\n",
    "Los nombres de funciones que comienzan y terminan con dos guiones bajos son funciones incorporadas especiales que Python usa de ciertas maneras. El método \\_\\_init()\\_\\_ es una de estas funciones especiales. Se llama automáticamente cuando creas un objeto de tu clase. El método \\_\\_init()\\_\\_ nos permite asegurarson de que todos los atributos relevantes tengan valores correctos cuando se crea un objeto a partir de la clase, antes de que se use el objeto. En este caso, el método \\_\\_init\\_\\_() inicializa los valores x e y de Cohete a el valor 0.\n",
    "\n",
    "La palabra clave **self** a menudo le cuesta  un poco de tiempo a la gente entenderla. La palabra \"self\" se refiere al objeto actual con el que está trabajando. Cuando estás escribiendo una clase, te permite consultar ciertos atributos de cualquier otra parte de la clase. Básicamente, todos los métodos en una clase necesitan el objeto * self * como su primer argumento, para que puedan acceder a cualquier atributo que sea parte de la clase.\n",
    "\n",
    "Ahora echemos un vistazo más de cerca a un **método**."
   ]
  },
  {
   "cell_type": "markdown",
   "metadata": {},
   "source": [
    "Un método simple\n",
    "-------------------\n",
    "\n",
    "Este es el único método que definimos en la clase Cohete:"
   ]
  },
  {
   "cell_type": "code",
   "execution_count": 17,
   "metadata": {},
   "outputs": [],
   "source": [
    "class Cohete():\n",
    "    # Clase que simula un cohete para un juego o simulaciones físicas\n",
    "    \n",
    "    def __init__(self):\n",
    "        # Cada cohete tiene unas coordenadas x e y \n",
    "        self.x = 0\n",
    "        self.y = 0\n",
    "        \n",
    "    def subir(self):\n",
    "        # Aumentar la coordenada Y del cohete en una unidad\n",
    "        self.y += 1"
   ]
  },
  {
   "cell_type": "markdown",
   "metadata": {},
   "source": [
    "\n",
    "Un método es solo una función que es parte de una clase. Como es solo una función, puede hacer cualquier cosa con un método que hayamos aprendido ya con funciones. Un método puede aceptar argumentos posicionales, argumentos palabra clave, una lista de valores de longitud variable, un diccionario de palabras clave de longitud variable o cualquier combinación de estos. Sus argumentos pueden devolver un valor o un conjunto de valores si queremos, o simplemente pueden hacer algún trabajo sin devolver ningún valor.\n",
    "\n",
    "Cada método tiene que aceptar un argumento por defecto, el valor **self**. Esta es una referencia al objeto particular que llama al método. Este argumento *self* nos da acceso a los atributos del objeto que llama. En este ejemplo, el auto argumento se usa para acceder al valor \"y\" de un objeto Cohete. Ese valor se incrementa en 1, cada vez que un determinado objeto Cohete llama al método subir(). Probablemente esto aún sea algo confuso, pero debería comenzar a tener sentido a medida que veámos más ejemplos.\n",
    "\n",
    "Si echas un segundo vistazo a lo que ocurre cuando se llama a un método, las cosas pueden que tengan un poco más de sentido:"
   ]
  },
  {
   "cell_type": "code",
   "execution_count": 5,
   "metadata": {},
   "outputs": [
    {
     "name": "stdout",
     "output_type": "stream",
     "text": [
      "Altitud de cohete: 0\n",
      "Altitud de cohete: 1\n",
      "Altitud de cohete: 2\n"
     ]
    }
   ],
   "source": [
    "class Cohete():\n",
    "    # Clase que simula un cohete para un juego o simulaciones físicas\n",
    "    \n",
    "    def __init__(self):\n",
    "        # Cada cohete tiene unas coordenadas x e y \n",
    "        self.x = 0\n",
    "        self.y = 0\n",
    "        \n",
    "    def subir(self):\n",
    "        # Aumentar la coordenada Y del cohete en una unidad\n",
    "        self.y += 1\n",
    "\n",
    "# Creamos un objeto cohete y empezamos a hacer que suba\n",
    "mi_cohete = Cohete()\n",
    "print('Altitud de cohete:', mi_cohete.y)\n",
    "\n",
    "mi_cohete.subir()\n",
    "print('Altitud de cohete:', mi_cohete.y)\n",
    "\n",
    "mi_cohete.subir()\n",
    "print('Altitud de cohete:', mi_cohete.y)\n",
    "\n"
   ]
  },
  {
   "cell_type": "markdown",
   "metadata": {},
   "source": [
    "En este ejemplo, se crea un objeto Cohete y se almacena en la variable mi_cohete. Después de crear este objeto, se imprime su valor y. Se accede al valor del atributo **y** utilizando la notación de punto. La frase **mi_cohete.y** le pide a Python que devuelva \"el valor de la variable **y** que pertenece al objeto mi_cohete\".\n",
    "\n",
    "Después de que se crea el objeto mi_cohete y se imprime su valor **y** inicial, se llama al método subir(). Esto le dice a Python que aplique el método subit() al objeto mi_cohete. Python encuentra el valor **y** que pertenece al objeto mi_cohete y agrega 1 a ese valor. Este proceso se repite varias veces, y se puede ver en el resultado que el valor **y** está de hecho aumentando."
   ]
  },
  {
   "cell_type": "markdown",
   "metadata": {},
   "source": [
    "Creando varios objetos de una clase\n",
    "-----------------------------------------\n",
    "\n",
    "Uno de los objetivos de la programación orientada a objetos es crear código reutilizable. Una vez que hayamos escrito el código para una clase, podemos crear tantos objetos de esa clase como necesitemos. Vale la pena mencionar en este punto que las clases generalmente se guardan en un archivo separado y luego se importan al programa en el que se está trabajando. Entonces podemos construir una biblioteca de clases y usar esas clases una y otra vez en diferentes programas. Una vez que sepamos que una clase funciona bien, puede dejarla en paz y saber que los objetos que creemos en un nuevo programa funcionarán como siempre.\n",
    "\n",
    "Podemos ver esta \"reutilización del código\" cuando la clase Cohete se usa para crear más de un objeto Cohete. Aquí está el código que hizo una flota de objetos Cohete:"
   ]
  },
  {
   "cell_type": "code",
   "execution_count": 7,
   "metadata": {},
   "outputs": [
    {
     "name": "stdout",
     "output_type": "stream",
     "text": [
      "<__main__.Cohete object at 0x7f42441a0240>\n",
      "<__main__.Cohete object at 0x7f42441a0278>\n",
      "<__main__.Cohete object at 0x7f4244196080>\n",
      "<__main__.Cohete object at 0x7f42441b81d0>\n",
      "<__main__.Cohete object at 0x7f42441b8278>\n"
     ]
    }
   ],
   "source": [
    "class Cohete():\n",
    "    # Clase que simula un cohete para un juego o simulaciones físicas\n",
    "    \n",
    "    def __init__(self):\n",
    "        # Cada cohete tiene unas coordenadas x e y \n",
    "        self.x = 0\n",
    "        self.y = 0\n",
    "        \n",
    "    def subir(self):\n",
    "        # Aumentar la coordenada Y del cohete en una unidad\n",
    "        self.y += 1\n",
    "        \n",
    "# Creamos una flota de 5 cohetes y lo almacenamos en una lista\n",
    "mis_cohetes = []\n",
    "for x in range(0,5):\n",
    "    nuevo_cohete = Cohete()\n",
    "    mis_cohetes.append(nuevo_cohete)\n",
    "\n",
    "# Mostramos que cada cohete efectivamente es un objeto distinto\n",
    "for cohete in mis_cohetes:\n",
    "    print(cohete)"
   ]
  },
  {
   "cell_type": "markdown",
   "metadata": {},
   "source": [
    "¿Qué sucede exactamente en este ciclo for? La línea *mis\\_cohetes.append(nuevo\\_cohete)* se ejecuta 5 veces. Cada vez, se crea un nuevo objeto Cohete y luego se agrega a la lista mis\\_cohetes. El método \\_\\_init\\_\\_() se ejecuta una vez para cada uno de estos objetos, por lo que cada objeto obtiene su propio valor **x** e **y**. Cuando se invoca un método en uno de estos objetos, la variable *self* permite el acceso solo a los atributos de ese objeto, y se asegura de que la modificación de un objeto no afecte a ninguno de los otros objetos que se han creado a partir de la clase.\n",
    "\n",
    "Cada uno de estos objetos se puede trabajar de forma individual. En este punto, estamos listos para continuar y ver cómo agregar más funcionalidad a la clase Cohete. Vamos a trabajar despacio y veremos como podemos empezar a escribir nuestras propias clases"
   ]
  },
  {
   "cell_type": "markdown",
   "metadata": {},
   "source": [
    "Repaso rápido\n",
    "---------------\n",
    "\n",
    "Si todo esto tiene sentido, entonces el resto del trabajo con las clases implicará aprender muchos detalles sobre cómo las clases se pueden utilizar de maneras más flexibles y potentes. Si esto no tiene sentido, prueba lo siguiente:\n",
    "\n",
    "- Volver a leer las secciones anteriores y ver si las cosas empiezan a tener más sentido.\n",
    "- Escribe estos ejemplos en tu propio editor y ejecútelos. Intenta hacer algunos cambios y mira qué sucede.\n",
    "- Prueba el siguiente ejercicio y mira a ver si te ayuda a solidificar algunos de los conceptos sobre los que ha estado leyendo.\n",
    "- Sigue leyendo. Las siguientes secciones agregarán más funcionalidades a la clase Cohete. Estos pasos implicarán repasar algo de lo que ya se ha cubierto, de una manera ligeramente diferente.\n",
    "\n",
    "Las clases son un tema extenso, y una vez que las entiendas, probablemente las usarás en tus programas en el futuro. Si eres nuevo en esto, sé paciente y confía en que las cosas comenzarán a tener sentido más adelante."
   ]
  },
  {
   "cell_type": "markdown",
   "metadata": {},
   "source": [
    "<a id=\"Ejercicios-oop\"></a>\n",
    "Ejercicios\n",
    "------------\n",
    "\n",
    "#### Tu propio cohete\n",
    "- Sin mirar atrás en los ejemplos anteriores, intenta recrear la clase Cohete como se ha mostrado hasta ahora.\n",
    "    - Definir la clase Cohete().\n",
    "    - Define el método \\_\\_init\\_\\_(), que establece un valor x e y para cada objeto Cohete.\n",
    "    - Define el método subir().\n",
    "    - Crea un objeto Cohete.\n",
    "    - Imprime el objeto.\n",
    "    - Imprime el valor **y** del objeto.\n",
    "    - Mueva el cohete hacia arriba, e imprime el valor de **y** nuevamente.\n",
    "    - Crea una flota de cohetes y demuestra que son objetos de la clase Cohete separados."
   ]
  },
  {
   "cell_type": "markdown",
   "metadata": {},
   "source": [
    "Refining the Rocket class\n",
    "===\n",
    "The Rocket class so far is very simple. It can be made a little more interesting with some refinements to the \\_\\_init\\_\\_() method, and by the addition of some methods."
   ]
  },
  {
   "cell_type": "markdown",
   "metadata": {},
   "source": [
    "Aceptando argumentos en el método \\_\\_init\\_\\_()\n",
    "-------------------------------------------------------\n",
    "\n",
    "El método \\_\\_init\\_\\_() hasta ahora es muy sencillo:"
   ]
  },
  {
   "cell_type": "code",
   "execution_count": null,
   "metadata": {},
   "outputs": [],
   "source": [
    "class Cohete():\n",
    "    # Clase que simula un cohete para un juego o simulaciones físicas\n",
    "    \n",
    "    def __init__(self):\n",
    "        # Cada cohete tiene unas coordenadas x e y \n",
    "        self.x = 0\n",
    "        self.y = 0\n",
    "        \n",
    "    def subir(self):\n",
    "        # Aumentar la coordenada Y del cohete en una unidad\n",
    "        self.y += 1"
   ]
  },
  {
   "cell_type": "markdown",
   "metadata": {},
   "source": [
    "\n",
    "Todo lo que el método **__init __()** hace hasta ahora es establecer los valores **x** e **y** con valor 0. Podemos agregar fácilmente un par de argumentos clave para que los nuevos cohetes se puedan inicializar en cualquier posición:"
   ]
  },
  {
   "cell_type": "code",
   "execution_count": null,
   "metadata": {},
   "outputs": [],
   "source": [
    "class Cohete():\n",
    "    # Clase que simula un cohete para un juego o simulaciones físicas\n",
    "    \n",
    "    def __init__(self, x, y):\n",
    "        # Cada cohete tiene unas coordenadas x e y \n",
    "        self.x = x\n",
    "        self.y = y\n",
    "        \n",
    "    def subir(self):\n",
    "        # Aumentar la coordenada Y del cohete en una unidad\n",
    "        self.y += 1"
   ]
  },
  {
   "cell_type": "markdown",
   "metadata": {},
   "source": [
    "Ahora cuando creamos un nuevo objeto Cohete, tiene la opción de pasar valores iniciales arbitrarios para **x** e **y**:"
   ]
  },
  {
   "cell_type": "code",
   "execution_count": 9,
   "metadata": {},
   "outputs": [
    {
     "name": "stdout",
     "output_type": "stream",
     "text": [
      "El cohete 0 esta en (0, 0).\n",
      "El cohete 1 esta en (0, 10).\n",
      "El cohete 2 esta en (100, 0).\n"
     ]
    }
   ],
   "source": [
    "class Cohete():\n",
    "    # Clase que simula un cohete para un juego o simulaciones físicas\n",
    "    \n",
    "    def __init__(self, x=0, y=0):\n",
    "        # Cada cohete tiene unas coordenadas x e y \n",
    "        self.x = x\n",
    "        self.y = y\n",
    "        \n",
    "    def subir(self):\n",
    "        # Aumentar la coordenada Y del cohete en una unidad\n",
    "        self.y += 1\n",
    "        \n",
    "# Creamos una serie de cohetes empezando en distintas posiciones\n",
    "cohetes = []\n",
    "cohetes.append(Cohete())\n",
    "cohetes.append(Cohete(0,10))\n",
    "cohetes.append(Cohete(100,0))\n",
    "\n",
    "# Mostramos donde esta cada cohete\n",
    "for index, cohete in enumerate(cohetes):\n",
    "    print(\"El cohete %d esta en (%d, %d).\" % (index, cohete.x, cohete.y))"
   ]
  },
  {
   "cell_type": "markdown",
   "metadata": {},
   "source": [
    "Aceptando parámetros en el un método\n",
    "-----------------------------------------\n",
    "\n",
    "El método \\_\\_init\\_\\_() es solo un método especial que sirve para un propósito particular, que es ayudar a crear nuevos objetos de una clase. Cualquier método en una clase puede aceptar parámetros de cualquier tipo. Con esto en mente, el método subir() puede hacerse mucho más flexible. Al aceptar argumentos de palabras clave, el método subir() se puede reescribir como un método mover_cohete() más general. Este nuevo método permitirá que el cohete se mueva cualquier cantidad, en cualquier dirección:"
   ]
  },
  {
   "cell_type": "code",
   "execution_count": 23,
   "metadata": {},
   "outputs": [],
   "source": [
    "class Cohete():\n",
    "    # Clase que simula un cohete para un juego o simulaciones físicas\n",
    "    \n",
    "    def __init__(self, x=0, y=0):\n",
    "        # Cada cohete tiene unas coordenadas x e y \n",
    "        self.x = x\n",
    "        self.y = y\n",
    "        \n",
    "    def mover_cohete(self, incremento_x=0, incremento_y=0):\n",
    "        # Mover el cohete de acuerdo a los parámetros indicados\n",
    "        self.y += 1\n",
    "        \n",
    "    def move_rocket(self, x_increment=0, y_increment=1):\n",
    "        # Move the rocket according to the paremeters given.\n",
    "        #  Default behavior is to move the rocket up one unit.\n",
    "        self.x += x_increment\n",
    "        self.y += y_increment"
   ]
  },
  {
   "cell_type": "markdown",
   "metadata": {},
   "source": [
    "The paremeters for the move() method are named x_increment and y_increment rather than x and y. It's good to emphasize that these are changes in the x and y position, not new values for the actual position of the rocket. By carefully choosing the right default values, we can define a meaningful default behavior. If someone calls the method move_rocket() with no parameters, the rocket will simply move up one unit in the y-direciton. Note that this method can be given negative values to move the rocket left or right:"
   ]
  },
  {
   "cell_type": "code",
   "execution_count": 25,
   "metadata": {},
   "outputs": [
    {
     "name": "stdout",
     "output_type": "stream",
     "text": [
      "Rocket 0 is at (0, 1).\n",
      "Rocket 1 is at (10, 10).\n",
      "Rocket 2 is at (-10, 0).\n"
     ]
    }
   ],
   "source": [
    "###highlight=[17,18,19,20,21,22,23,24,25,26,27]\n",
    "class Rocket():\n",
    "    # Rocket simulates a rocket ship for a game,\n",
    "    #  or a physics simulation.\n",
    "    \n",
    "    def __init__(self, x=0, y=0):\n",
    "        # Each rocket has an (x,y) position.\n",
    "        self.x = x\n",
    "        self.y = y\n",
    "        \n",
    "    def move_rocket(self, x_increment=0, y_increment=1):\n",
    "        # Move the rocket according to the paremeters given.\n",
    "        #  Default behavior is to move the rocket up one unit.\n",
    "        self.x += x_increment\n",
    "        self.y += y_increment\n",
    "        \n",
    "# Create three rockets.\n",
    "rockets = [Rocket() for x in range(0,3)]\n",
    "\n",
    "# Move each rocket a different amount.\n",
    "rockets[0].move_rocket()\n",
    "rockets[1].move_rocket(10,10)\n",
    "rockets[2].move_rocket(-10,0)\n",
    "          \n",
    "# Show where each rocket is.\n",
    "for index, rocket in enumerate(rockets):\n",
    "    print(\"Rocket %d is at (%d, %d).\" % (index, rocket.x, rocket.y))"
   ]
  },
  {
   "cell_type": "markdown",
   "metadata": {},
   "source": [
    "[top](#)"
   ]
  },
  {
   "cell_type": "markdown",
   "metadata": {},
   "source": [
    "Adding a new method\n",
    "---\n",
    "One of the strengths of object-oriented programming is the ability to closely model real-world phenomena by adding appropriate attributes and behaviors to classes. One of the jobs of a team piloting a rocket is to make sure the rocket does not get too close to any other rockets. Let's add a method that will report the distance from one rocket to any other rocket.\n",
    "\n",
    "If you are not familiar with distance calculations, there is a fairly simple formula to tell the distance between two points if you know the x and y values of each point. This new method performs that calculation, and then returns the resulting distance."
   ]
  },
  {
   "cell_type": "code",
   "execution_count": 36,
   "metadata": {},
   "outputs": [
    {
     "name": "stdout",
     "output_type": "stream",
     "text": [
      "The rockets are 11.180340 units apart.\n"
     ]
    }
   ],
   "source": [
    "###highlight=[19,20,21,22,23,24,25,26,27,28,29,30,31]\n",
    "from math import sqrt\n",
    "\n",
    "class Rocket():\n",
    "    # Rocket simulates a rocket ship for a game,\n",
    "    #  or a physics simulation.\n",
    "    \n",
    "    def __init__(self, x=0, y=0):\n",
    "        # Each rocket has an (x,y) position.\n",
    "        self.x = x\n",
    "        self.y = y\n",
    "        \n",
    "    def move_rocket(self, x_increment=0, y_increment=1):\n",
    "        # Move the rocket according to the paremeters given.\n",
    "        #  Default behavior is to move the rocket up one unit.\n",
    "        self.x += x_increment\n",
    "        self.y += y_increment\n",
    "        \n",
    "    def get_distance(self, other_rocket):\n",
    "        # Calculates the distance from this rocket to another rocket,\n",
    "        #  and returns that value.\n",
    "        distance = sqrt((self.x-other_rocket.x)**2+(self.y-other_rocket.y)**2)\n",
    "        return distance\n",
    "    \n",
    "# Make two rockets, at different places.\n",
    "rocket_0 = Rocket()\n",
    "rocket_1 = Rocket(10,5)\n",
    "\n",
    "# Show the distance between them.\n",
    "distance = rocket_0.get_distance(rocket_1)\n",
    "print(\"The rockets are %f units apart.\" % distance)"
   ]
  },
  {
   "cell_type": "markdown",
   "metadata": {},
   "source": [
    "Hopefully these short refinements show that you can extend a class' attributes and behavior to model the phenomena you are interested in as closely as you want. The rocket could have a name, a crew capacity, a payload, a certain amount of fuel, and any number of other attributes. You could define any behavior you want for the rocket, including interactions with other rockets and launch facilities, gravitational fields, and whatever you need it to! There are techniques for managing these more complex interactions, but what you have just seen is the core of object-oriented programming.\n",
    "\n",
    "At this point you should try your hand at writing some classes of your own. After trying some exercises, we will look at object inheritance, and then you will be ready to move on for now."
   ]
  },
  {
   "cell_type": "markdown",
   "metadata": {},
   "source": [
    "[top](#)"
   ]
  },
  {
   "cell_type": "markdown",
   "metadata": {},
   "source": [
    "<a id=\"Exercises-refining\"></a>\n",
    "Exercises\n",
    "---\n",
    "#### Your Own Rocket 2\n",
    "- There are enough new concepts here that you might want to try re-creating the [Rocket class](#adding_method) as it has been developed so far, looking at the examples as little as possible. Once you have your own version, regardless of how much you needed to look at the example, you can modify the class and explore the possibilities of what you have already learned.\n",
    "    - Re-create the Rocket class as it has been developed so far:\n",
    "        - Define the Rocket() class.\n",
    "        - Define the \\_\\_init\\_\\_() method. Let your \\_\\_init\\_\\_() method accept x and y values for the initial position of the rocket. Make sure the default behavior is to position the rocket at (0,0).\n",
    "        - Define the move_rocket() method. The method should accept an amount to move left or right, and an amount to move up or down.\n",
    "        - Create a Rocket object. Move the rocket around, printing its position after each move.\n",
    "        - Create a small fleet of rockets. Move several of them around, and print their final positions to prove that each rocket can move independently of the other rockets.\n",
    "        - Define the get_distance() method. The method should accept a Rocket object, and calculate the distance between the current rocket and the rocket that is passed into the method.\n",
    "        - Use the get_distance() method to print the distances between several of the rockets in your fleet.\n",
    "\n",
    "#### Rocket Attributes\n",
    "- Start with a copy of the Rocket class, either one you made from a previous exercise or the latest version from the [last section](#adding_method).\n",
    "- Add several of your own attributes to the \\_\\_init\\_\\_() function. The values of your attributes can be set automatically by the \\_\\_init\\_\\_ function, or they can be set by paremeters passed into \\_\\_init\\_\\_().\n",
    "- Create a rocket and print the values for the attributes you have created, to show they have been set correctly.\n",
    "- Create a small fleet of rockets, and set different values for one of the attributes you have created. Print the values of these attributes for each rocket in your fleet, to show that they have been set properly for each rocket.\n",
    "- If you are not sure what kind of attributes to add, you could consider storing the height of the rocket, the crew size, the name of the rocket, the speed of the rocket, or many other possible characteristics of a rocket.\n",
    "\n",
    "#### Rocket Methods\n",
    "- Start with a copy of the Rocket class, either one you made from a previous exercise or the latest version from the [last section](#adding_method).\n",
    "- Add a new method to the class. This is probably a little more challenging than adding attributes, but give it a try.\n",
    "    - Think of what rockets do, and make a very simple version of that behavior using print statements. For example, rockets lift off when they are launched. You could make a method called *launch()*, and all it would do is print a statement such as \"The rocket has lifted off!\" If your rocket has a name, this sentence could be more descriptive.\n",
    "    - You could make a very simple *land_rocket()* method that simply sets the x and y values of the rocket back to 0. Print the position before and after calling the *land_rocket()* method to make sure your method is doing what it's supposed to.\n",
    "    - If you enjoy working with math, you could implement a *safety_check()* method. This method would take in another rocket object, and call the get_distance() method on that rocket. Then it would check if that rocket is too close, and print a warning message if the rocket is too close. If there is zero distance between the two rockets, your method could print a message such as, \"The rockets have crashed!\" (Be careful; getting a zero distance could mean that you accidentally found the distance between a rocket and itself, rather than a second rocket.)\n",
    "    \n",
    "#### Person Class\n",
    "- Modeling a person is a classic exercise for people who are trying to learn how to write classes. We are all familiar with characteristics and behaviors of people, so it is a good exercise to try.\n",
    "    - Define a Person() class.\n",
    "    - In the \\_\\_init()\\_\\_ function, define several attributes of a person. Good attributes to consider are name, age, place of birth, and anything else you like to know about the people in your life.\n",
    "    - Write one method. This could be as simple as *introduce_yourself()*. This method would print out a statement such as, \"Hello, my name is Eric.\"\n",
    "    - You could also make a method such as *age_person()*. A simple version of this method would just add 1 to the person's age.\n",
    "        - A more complicated version of this method would involve storing the person's birthdate rather than their age, and then calculating the age whenever the age is requested. But dealing with dates and times is not particularly easy if you've never done it in any other programming language before.\n",
    "    - Create a person, set the attribute values appropriately, and print out information about the person.\n",
    "    - Call your method on the person you created. Make sure your method executed properly; if the method does not print anything out directly, print something before and after calling the method to make sure it did what it was supposed to.\n",
    "    \n",
    "#### Car Class\n",
    "- Modeling a car is another classic exercise.\n",
    "    - Define a Car() class.\n",
    "    - In the \\_\\_init\\_\\_() function, define several attributes of a car. Some good attributes to consider are make (Subaru, Audi, Volvo...), model (Outback, allroad, C30), year, num_doors, owner, or any other aspect of a car you care to include in your class.\n",
    "    - Write one method. This could be something such as *describe_car()*. This method could print a series of statements that describe the car, using the information that is stored in the attributes. You could also write a method that adjusts the mileage of the car or tracks its position.\n",
    "    - Create a car object, and use your method.\n",
    "    - Create several car objects with different values for the attributes. Use your method on several of your cars."
   ]
  },
  {
   "cell_type": "markdown",
   "metadata": {},
   "source": [
    "[top](#)"
   ]
  },
  {
   "cell_type": "markdown",
   "metadata": {},
   "source": [
    "Inheritance\n",
    "===\n",
    "One of the most important goals of the object-oriented approach to programming is the creation of stable, reliable, reusable code. If you had to create a new class for every kind of object you wanted to model, you would hardly have any reusable code. In Python and any other language that supports OOP, one class can **inherit** from another class. This means you can base a new class on an existing class; the new class *inherits* all of the attributes and behavior of the class it is based on. A new class can override any undesirable attributes or behavior of the class it inherits from, and it can add any new attributes or behavior that are appropriate. The original class is called the **parent** class, and the new class is a **child** of the parent class. The parent class is also called a **superclass**, and the child class is also called a **subclass**.\n",
    "\n",
    "The child class inherits all attributes and behavior from the parent class, but any attributes that are defined in the child class are not available to the parent class. This may be obvious to many people, but it is worth stating. This also means a child class can override behavior of the parent class. If a child class defines a method that also appears in the parent class, objects of the child class will use the new method rather than the parent class method.\n",
    "\n",
    "To better understand inheritance, let's look at an example of a class that can be based on the Rocket class."
   ]
  },
  {
   "cell_type": "markdown",
   "metadata": {},
   "source": [
    "The SpaceShuttle class\n",
    "---\n",
    "If you wanted to model a space shuttle, you could write an entirely new class. But a space shuttle is just a special kind of rocket. Instead of writing an entirely new class, you can inherit all of the attributes and behavior of a Rocket, and then add a few appropriate attributes and behavior for a Shuttle.\n",
    "\n",
    "One of the most significant characteristics of a space shuttle is that it can be reused. So the only difference we will add at this point is to record the number of flights the shutttle has completed. Everything else you need to know about a shuttle has already been coded into the Rocket class.\n",
    "\n",
    "Here is what the Shuttle class looks like:"
   ]
  },
  {
   "cell_type": "code",
   "execution_count": 11,
   "metadata": {},
   "outputs": [
    {
     "name": "stdout",
     "output_type": "stream",
     "text": [
      "<__main__.Shuttle object at 0x7f1e62ba6cd0>\n"
     ]
    }
   ],
   "source": [
    "###highlight=[25,26,27,28,29,30,31,32,33,34]\n",
    "from math import sqrt\n",
    "\n",
    "class Rocket():\n",
    "    # Rocket simulates a rocket ship for a game,\n",
    "    #  or a physics simulation.\n",
    "    \n",
    "    def __init__(self, x=0, y=0):\n",
    "        # Each rocket has an (x,y) position.\n",
    "        self.x = x\n",
    "        self.y = y\n",
    "        \n",
    "    def move_rocket(self, x_increment=0, y_increment=1):\n",
    "        # Move the rocket according to the paremeters given.\n",
    "        #  Default behavior is to move the rocket up one unit.\n",
    "        self.x += x_increment\n",
    "        self.y += y_increment\n",
    "        \n",
    "    def get_distance(self, other_rocket):\n",
    "        # Calculates the distance from this rocket to another rocket,\n",
    "        #  and returns that value.\n",
    "        distance = sqrt((self.x-other_rocket.x)**2+(self.y-other_rocket.y)**2)\n",
    "        return distance\n",
    "    \n",
    "class Shuttle(Rocket):\n",
    "    # Shuttle simulates a space shuttle, which is really\n",
    "    #  just a reusable rocket.\n",
    "    \n",
    "    def __init__(self, x=0, y=0, flights_completed=0):\n",
    "        super().__init__(x, y)\n",
    "        self.flights_completed = flights_completed\n",
    "        \n",
    "shuttle = Shuttle(10,0,3)\n",
    "print(shuttle)"
   ]
  },
  {
   "cell_type": "markdown",
   "metadata": {},
   "source": [
    "When a new class is based on an existing class, you write the name of the parent class in parentheses when you define the new class:\n",
    "\n",
    "    "
   ]
  },
  {
   "cell_type": "code",
   "execution_count": null,
   "metadata": {},
   "outputs": [],
   "source": [
    "class NewClass(ParentClass):"
   ]
  },
  {
   "cell_type": "markdown",
   "metadata": {},
   "source": [
    "The \\_\\_init\\_\\_() function of the new class needs to call the \\_\\_init\\_\\_() function of the parent class. The \\_\\_init\\_\\_() function of the new class needs to accept all of the parameters required to build an object from the parent class, and these parameters need to be passed to the \\_\\_init\\_\\_() function of the parent class. The *super().\\_\\_init\\_\\_()* function takes care of this:"
   ]
  },
  {
   "cell_type": "code",
   "execution_count": null,
   "metadata": {},
   "outputs": [],
   "source": [
    "###highlight=[5]\n",
    "class NewClass(ParentClass):\n",
    "    \n",
    "    def __init__(self, arguments_new_class, arguments_parent_class):\n",
    "        super().__init__(arguments_parent_class)\n",
    "        # Code for initializing an object of the new class."
   ]
  },
  {
   "cell_type": "markdown",
   "metadata": {},
   "source": [
    "The *super()* function passes the *self* argument to the parent class automatically. You could also do this by explicitly naming the parent class when you call the \\_\\_init\\_\\_() function, but you then have to include the *self* argument manually:"
   ]
  },
  {
   "cell_type": "code",
   "execution_count": null,
   "metadata": {},
   "outputs": [],
   "source": [
    "###highlight=[7]\n",
    "class Shuttle(Rocket):\n",
    "    # Shuttle simulates a space shuttle, which is really\n",
    "    #  just a reusable rocket.\n",
    "    \n",
    "    def __init__(self, x=0, y=0, flights_completed=0):\n",
    "        Rocket.__init__(self, x, y)\n",
    "        self.flights_completed = flights_completed"
   ]
  },
  {
   "cell_type": "markdown",
   "metadata": {},
   "source": [
    "This might seem a little easier to read, but it is preferable to use the *super()* syntax. When you use *super()*, you don't need to explicitly name the parent class, so your code is more resilient to later changes. As you learn more about classes, you will be able to write child classes that inherit from multiple parent classes, and the *super()* function will call the parent classes' \\_\\_init\\_\\_() functions for you, in one line. This explicit approach to calling the parent class' \\_\\_init\\_\\_() function is included so that you will be less confused if you see it in someone else's code."
   ]
  },
  {
   "cell_type": "markdown",
   "metadata": {},
   "source": [
    "The output above shows that a new Shuttle object was created. This new Shuttle object can store the number of flights completed, but it also has all of the functionality of the Rocket class: it has a position that can be changed, and it can calculate the distance between itself and other rockets or shuttles. This can be demonstrated by creating several rockets and shuttles, and then finding the distance between one shuttle and all the other shuttles and rockets. This example uses a simple function called [randint](http://docs.python.org/2/library/random.html#random.randint), which generates a random integer between a lower and upper bound, to determine the position of each rocket and shuttle:"
   ]
  },
  {
   "cell_type": "code",
   "execution_count": 13,
   "metadata": {},
   "outputs": [
    {
     "name": "stdout",
     "output_type": "stream",
     "text": [
      "Shuttle 0 has completed 7 flights.\n",
      "Shuttle 1 has completed 10 flights.\n",
      "Shuttle 2 has completed 7 flights.\n",
      "\n",
      "\n",
      "The first shuttle is 0.000000 units away from shuttle 0.\n",
      "The first shuttle is 25.806976 units away from shuttle 1.\n",
      "The first shuttle is 40.706265 units away from shuttle 2.\n",
      "\n",
      "\n",
      "The first shuttle is 25.079872 units away from rocket 0.\n",
      "The first shuttle is 60.415230 units away from rocket 1.\n",
      "The first shuttle is 35.468296 units away from rocket 2.\n"
     ]
    }
   ],
   "source": [
    "###highlight=[3, 35, 36, 37, 38, 39, 40, 41, 42, 43, 44, 45, 46, 47, 48, 49, 50, 51, 52, 53, 54, 55, 56, 57, 58, 59, 60, 61, 62, 63, 64, 65]\n",
    "from math import sqrt\n",
    "from random import randint\n",
    "\n",
    "class Rocket():\n",
    "    # Rocket simulates a rocket ship for a game,\n",
    "    #  or a physics simulation.\n",
    "    \n",
    "    def __init__(self, x=0, y=0):\n",
    "        # Each rocket has an (x,y) position.\n",
    "        self.x = x\n",
    "        self.y = y\n",
    "        \n",
    "    def move_rocket(self, x_increment=0, y_increment=1):\n",
    "        # Move the rocket according to the paremeters given.\n",
    "        #  Default behavior is to move the rocket up one unit.\n",
    "        self.x += x_increment\n",
    "        self.y += y_increment\n",
    "        \n",
    "    def get_distance(self, other_rocket):\n",
    "        # Calculates the distance from this rocket to another rocket,\n",
    "        #  and returns that value.\n",
    "        distance = sqrt((self.x-other_rocket.x)**2+(self.y-other_rocket.y)**2)\n",
    "        return distance\n",
    "    \n",
    "class Shuttle(Rocket):\n",
    "    # Shuttle simulates a space shuttle, which is really\n",
    "    #  just a reusable rocket.\n",
    "    \n",
    "    def __init__(self, x=0, y=0, flights_completed=0):\n",
    "        super().__init__(x, y)\n",
    "        self.flights_completed = flights_completed\n",
    "        \n",
    "        \n",
    "# Create several shuttles and rockets, with random positions.\n",
    "#  Shuttles have a random number of flights completed.\n",
    "shuttles = []\n",
    "for x in range(0,3):\n",
    "    x = randint(0,100)\n",
    "    y = randint(1,100)\n",
    "    flights_completed = randint(0,10)\n",
    "    shuttles.append(Shuttle(x, y, flights_completed))\n",
    "\n",
    "rockets = []\n",
    "for x in range(0,3):\n",
    "    x = randint(0,100)\n",
    "    y = randint(1,100)\n",
    "    rockets.append(Rocket(x, y))\n",
    "    \n",
    "# Show the number of flights completed for each shuttle.\n",
    "for index, shuttle in enumerate(shuttles):\n",
    "    print(\"Shuttle %d has completed %d flights.\" % (index, shuttle.flights_completed))\n",
    "    \n",
    "print(\"\\n\")    \n",
    "# Show the distance from the first shuttle to all other shuttles.\n",
    "first_shuttle = shuttles[0]\n",
    "for index, shuttle in enumerate(shuttles):\n",
    "    distance = first_shuttle.get_distance(shuttle)\n",
    "    print(\"The first shuttle is %f units away from shuttle %d.\" % (distance, index))\n",
    "\n",
    "print(\"\\n\")\n",
    "# Show the distance from the first shuttle to all other rockets.\n",
    "for index, rocket in enumerate(rockets):\n",
    "    distance = first_shuttle.get_distance(rocket)\n",
    "    print(\"The first shuttle is %f units away from rocket %d.\" % (distance, index))"
   ]
  },
  {
   "cell_type": "markdown",
   "metadata": {},
   "source": [
    "Inheritance is a powerful feature of object-oriented programming. Using just what you have seen so far about classes, you can model an incredible variety of real-world and virtual phenomena with a high degree of accuracy. The code you write has the potential to be stable and reusable in a variety of applications."
   ]
  },
  {
   "cell_type": "markdown",
   "metadata": {},
   "source": [
    "[top](#)"
   ]
  },
  {
   "cell_type": "markdown",
   "metadata": {},
   "source": [
    "Inheritance in Python 2.7\n",
    "---\n",
    "The *super()* method has a slightly different syntax in Python 2.7:"
   ]
  },
  {
   "cell_type": "code",
   "execution_count": null,
   "metadata": {},
   "outputs": [],
   "source": [
    "###highlight=[5]\n",
    "class NewClass(ParentClass):\n",
    "    \n",
    "    def __init__(self, arguments_new_class, arguments_parent_class):\n",
    "        super(NewClass, self).__init__(arguments_parent_class)\n",
    "        # Code for initializing an object of the new class."
   ]
  },
  {
   "cell_type": "markdown",
   "metadata": {},
   "source": [
    "Notice that you have to explicitly pass the arguments *NewClass* and *self* when you call *super()* in Python 2.7. The SpaceShuttle class would look like this:"
   ]
  },
  {
   "cell_type": "code",
   "execution_count": 12,
   "metadata": {},
   "outputs": [
    {
     "name": "stdout",
     "output_type": "stream",
     "text": [
      "<__main__.Shuttle object at 0x7f1e60080810>\n"
     ]
    }
   ],
   "source": [
    "###highlight=[25,26,27,28,29,30,31,32,33,34]\n",
    "from math import sqrt\n",
    "\n",
    "class Rocket(object):\n",
    "    # Rocket simulates a rocket ship for a game,\n",
    "    #  or a physics simulation.\n",
    "    \n",
    "    def __init__(self, x=0, y=0):\n",
    "        # Each rocket has an (x,y) position.\n",
    "        self.x = x\n",
    "        self.y = y\n",
    "        \n",
    "    def move_rocket(self, x_increment=0, y_increment=1):\n",
    "        # Move the rocket according to the paremeters given.\n",
    "        #  Default behavior is to move the rocket up one unit.\n",
    "        self.x += x_increment\n",
    "        self.y += y_increment\n",
    "        \n",
    "    def get_distance(self, other_rocket):\n",
    "        # Calculates the distance from this rocket to another rocket,\n",
    "        #  and returns that value.\n",
    "        distance = sqrt((self.x-other_rocket.x)**2+(self.y-other_rocket.y)**2)\n",
    "        return distance\n",
    "    \n",
    "class Shuttle(Rocket):\n",
    "    # Shuttle simulates a space shuttle, which is really\n",
    "    #  just a reusable rocket.\n",
    "    \n",
    "    def __init__(self, x=0, y=0, flights_completed=0):\n",
    "        super(Shuttle, self).__init__(x, y)\n",
    "        self.flights_completed = flights_completed\n",
    "        \n",
    "shuttle = Shuttle(10,0,3)\n",
    "print(shuttle)"
   ]
  },
  {
   "cell_type": "markdown",
   "metadata": {},
   "source": [
    "This syntax works in Python 3 as well."
   ]
  },
  {
   "cell_type": "markdown",
   "metadata": {},
   "source": [
    "[top](#)"
   ]
  },
  {
   "cell_type": "markdown",
   "metadata": {},
   "source": [
    "<a id=\"Exercises-inheritance\"></a>\n",
    "Exercises\n",
    "---\n",
    "#### Student Class\n",
    "- Start with your program from [Person Class](#exercise_person_class).\n",
    "- Make a new class called Student that inherits from Person.\n",
    "- Define some attributes that a student has, which other people don't have.\n",
    "    - A student has a school they are associated with, a graduation year, a gpa, and other particular attributes.\n",
    "- Create a Student object, and prove that you have used inheritance correctly.\n",
    "    - Set some attribute values for the student, that are only coded in the Person class.\n",
    "    - Set some attribute values for the student, that are only coded in the Student class.\n",
    "    - Print the values for all of these attributes.\n",
    "\n",
    "#### Refining Shuttle\n",
    "- Take the latest version of the [Shuttle class](#shuttle). Extend it.\n",
    "    - Add more attributes that are particular to shuttles such as maximum number of flights, capability of supporting spacewalks, and capability of docking with the ISS.\n",
    "    - Add one more method to the class, that relates to shuttle behavior. This method could simply print a statement, such as \"Docking with the ISS,\" for a dock_ISS() method.\n",
    "    - Prove that your refinements work by creating a Shuttle object with these attributes, and then call your new method."
   ]
  },
  {
   "cell_type": "markdown",
   "metadata": {},
   "source": [
    "[top](#)"
   ]
  },
  {
   "cell_type": "markdown",
   "metadata": {},
   "source": [
    "Modules and classes\n",
    "===\n",
    "Now that you are starting to work with classes, your files are going to grow longer. This is good, because it means your programs are probably doing more interesting things. But it is bad, because longer files can be more difficult to work with. Python allows you to save your classes in another file and then import them into the program you are working on. This has the added advantage of isolating your classes into files that can be used in any number of different programs. As you use your classes repeatedly, the classes become more reliable and complete overall."
   ]
  },
  {
   "cell_type": "markdown",
   "metadata": {},
   "source": [
    "Storing a single class in a module\n",
    "---\n",
    "\n",
    "When you save a class into a separate file, that file is called a **module**. You can have any number of classes in a single module. There are a number of ways you can then import the class you are interested in.\n",
    "\n",
    "Start out by saving just the Rocket class into a file called *rocket.py*. Notice the naming convention being used here: the module is saved with a lowercase name, and the class starts with an uppercase letter. This convention is pretty important for a number of reasons, and it is a really good idea to follow the convention."
   ]
  },
  {
   "cell_type": "code",
   "execution_count": 48,
   "metadata": {},
   "outputs": [],
   "source": [
    "###highlight=[2]\n",
    "# Save as rocket.py\n",
    "from math import sqrt\n",
    "\n",
    "class Rocket():\n",
    "    # Rocket simulates a rocket ship for a game,\n",
    "    #  or a physics simulation.\n",
    "    \n",
    "    def __init__(self, x=0, y=0):\n",
    "        # Each rocket has an (x,y) position.\n",
    "        self.x = x\n",
    "        self.y = y\n",
    "        \n",
    "    def move_rocket(self, x_increment=0, y_increment=1):\n",
    "        # Move the rocket according to the paremeters given.\n",
    "        #  Default behavior is to move the rocket up one unit.\n",
    "        self.x += x_increment\n",
    "        self.y += y_increment\n",
    "        \n",
    "    def get_distance(self, other_rocket):\n",
    "        # Calculates the distance from this rocket to another rocket,\n",
    "        #  and returns that value.\n",
    "        distance = sqrt((self.x-other_rocket.x)**2+(self.y-other_rocket.y)**2)\n",
    "        return distance"
   ]
  },
  {
   "cell_type": "markdown",
   "metadata": {},
   "source": [
    "Make a separate file called *rocket_game.py*. If you are more interested in science than games, feel free to call this file something like *rocket_simulation.py*. Again, to use standard naming conventions, make sure you are using a lowercase_underscore name for this file."
   ]
  },
  {
   "cell_type": "code",
   "execution_count": 55,
   "metadata": {},
   "outputs": [
    {
     "name": "stdout",
     "output_type": "stream",
     "text": [
      "The rocket is at (0, 0).\n"
     ]
    }
   ],
   "source": [
    "###highlight=[2]\n",
    "# Save as rocket_game.py\n",
    "from rocket import Rocket\n",
    "\n",
    "rocket = Rocket()\n",
    "print(\"The rocket is at (%d, %d).\" % (rocket.x, rocket.y))"
   ]
  },
  {
   "cell_type": "markdown",
   "metadata": {},
   "source": [
    "This is a really clean and uncluttered file. A rocket is now something you can define in your programs, without the details of the rocket's implementation cluttering up your file. You don't have to include all the class code for a rocket in each of your files that deals with rockets; the code defining rocket attributes and behavior lives in one file, and can be used anywhere.\n",
    "\n",
    "The first line tells Python to look for a file called *rocket.py*. It looks for that file in the same directory as your current program. You can put your classes in other directories, but we will get to that convention a bit later. Notice that you do not\n",
    "\n",
    "When Python finds the file *rocket.py*, it looks for a class called *Rocket*. When it finds that class, it imports that code into the current file, without you ever seeing that code. You are then free to use the class Rocket as you have seen it used in previous examples."
   ]
  },
  {
   "cell_type": "markdown",
   "metadata": {},
   "source": [
    "[top](#)"
   ]
  },
  {
   "cell_type": "markdown",
   "metadata": {},
   "source": [
    "Storing multiple classes in a module\n",
    "---\n",
    "\n",
    "A module is simply a file that contains one or more classes or functions, so the Shuttle class actually belongs in the rocket module as well:"
   ]
  },
  {
   "cell_type": "code",
   "execution_count": null,
   "metadata": {},
   "outputs": [],
   "source": [
    "###highlight=[27,28,29,30,31,32,33]\n",
    "# Save as rocket.py\n",
    "from math import sqrt\n",
    "\n",
    "class Rocket():\n",
    "    # Rocket simulates a rocket ship for a game,\n",
    "    #  or a physics simulation.\n",
    "    \n",
    "    def __init__(self, x=0, y=0):\n",
    "        # Each rocket has an (x,y) position.\n",
    "        self.x = x\n",
    "        self.y = y\n",
    "        \n",
    "    def move_rocket(self, x_increment=0, y_increment=1):\n",
    "        # Move the rocket according to the paremeters given.\n",
    "        #  Default behavior is to move the rocket up one unit.\n",
    "        self.x += x_increment\n",
    "        self.y += y_increment\n",
    "        \n",
    "    def get_distance(self, other_rocket):\n",
    "        # Calculates the distance from this rocket to another rocket,\n",
    "        #  and returns that value.\n",
    "        distance = sqrt((self.x-other_rocket.x)**2+(self.y-other_rocket.y)**2)\n",
    "        return distance\n",
    "    \n",
    "\n",
    "class Shuttle(Rocket):\n",
    "    # Shuttle simulates a space shuttle, which is really\n",
    "    #  just a reusable rocket.\n",
    "    \n",
    "    def __init__(self, x=0, y=0, flights_completed=0):\n",
    "        super().__init__(x, y)\n",
    "        self.flights_completed = flights_completed"
   ]
  },
  {
   "cell_type": "markdown",
   "metadata": {},
   "source": [
    "Now you can import the Rocket and the Shuttle class, and use them both in a clean uncluttered program file:"
   ]
  },
  {
   "cell_type": "code",
   "execution_count": 14,
   "metadata": {},
   "outputs": [
    {
     "name": "stdout",
     "output_type": "stream",
     "text": [
      "The rocket is at (0, 0).\n",
      "\n",
      "The shuttle is at (0, 0).\n",
      "The shuttle has completed 0 flights.\n"
     ]
    }
   ],
   "source": [
    "###highlight=[3,8,9,10]\n",
    "# Save as rocket_game.py\n",
    "from rocket import Rocket, Shuttle\n",
    "\n",
    "rocket = Rocket()\n",
    "print(\"The rocket is at (%d, %d).\" % (rocket.x, rocket.y))\n",
    "\n",
    "shuttle = Shuttle()\n",
    "print(\"\\nThe shuttle is at (%d, %d).\" % (shuttle.x, shuttle.y))\n",
    "print(\"The shuttle has completed %d flights.\" % shuttle.flights_completed)"
   ]
  },
  {
   "cell_type": "markdown",
   "metadata": {},
   "source": [
    "The first line tells Python to import both the *Rocket* and the *Shuttle* classes from the *rocket* module. You don't have to import every class in a module; you can pick and choose the classes you care to use, and Python will only spend time processing those particular classes."
   ]
  },
  {
   "cell_type": "markdown",
   "metadata": {},
   "source": [
    "A number of ways to import modules and classes\n",
    "---\n",
    "There are several ways to import modules and classes, and each has its own merits."
   ]
  },
  {
   "cell_type": "markdown",
   "metadata": {},
   "source": [
    "### import *module_name*\n",
    "\n",
    "The syntax for importing classes that was just shown:"
   ]
  },
  {
   "cell_type": "code",
   "execution_count": null,
   "metadata": {},
   "outputs": [],
   "source": [
    "from module_name import ClassName"
   ]
  },
  {
   "cell_type": "markdown",
   "metadata": {},
   "source": [
    "is straightforward, and is used quite commonly. It allows you to use the class names directly in your program, so you have very clean and readable code. This can be a problem, however, if the names of the classes you are importing conflict with names that have already been used in the program you are working on. This is unlikely to happen in the short programs you have been seeing here, but if you were working on a larger program it is quite possible that the class you want to import from someone else's work would happen to have a name you have already used in your program. In this case, you can use simply import the module itself:"
   ]
  },
  {
   "cell_type": "code",
   "execution_count": 3,
   "metadata": {},
   "outputs": [
    {
     "name": "stdout",
     "output_type": "stream",
     "text": [
      "The rocket is at (0, 0).\n",
      "\n",
      "The shuttle is at (0, 0).\n",
      "The shuttle has completed 0 flights.\n"
     ]
    }
   ],
   "source": [
    "# Save as rocket_game.py\n",
    "import rocket\n",
    "\n",
    "rocket_0 = rocket.Rocket()\n",
    "print(\"The rocket is at (%d, %d).\" % (rocket_0.x, rocket_0.y))\n",
    "\n",
    "shuttle_0 = rocket.Shuttle()\n",
    "print(\"\\nThe shuttle is at (%d, %d).\" % (shuttle_0.x, shuttle_0.y))\n",
    "print(\"The shuttle has completed %d flights.\" % shuttle_0.flights_completed)"
   ]
  },
  {
   "cell_type": "markdown",
   "metadata": {},
   "source": [
    "The general syntax for this kind of import is:\n",
    "\n",
    "    "
   ]
  },
  {
   "cell_type": "code",
   "execution_count": null,
   "metadata": {},
   "outputs": [],
   "source": [
    "import module_name"
   ]
  },
  {
   "cell_type": "markdown",
   "metadata": {},
   "source": [
    "After this, classes are accessed using dot notation:"
   ]
  },
  {
   "cell_type": "code",
   "execution_count": null,
   "metadata": {},
   "outputs": [],
   "source": [
    "module_name.ClassName"
   ]
  },
  {
   "cell_type": "markdown",
   "metadata": {},
   "source": [
    "This prevents some name conflicts. If you were reading carefully however, you might have noticed that the variable name *rocket* in the previous example had to be changed because it has the same name as the module itself. This is not good, because in a longer program that could mean a lot of renaming."
   ]
  },
  {
   "cell_type": "markdown",
   "metadata": {},
   "source": [
    "### import *module_name* as *local_module_name*\n",
    "\n",
    "There is another syntax for imports that is quite useful:"
   ]
  },
  {
   "cell_type": "code",
   "execution_count": null,
   "metadata": {},
   "outputs": [],
   "source": [
    "import module_name as local_module_name"
   ]
  },
  {
   "cell_type": "markdown",
   "metadata": {},
   "source": [
    "When you are importing a module into one of your projects, you are free to choose any name you want for the module in your project. So the last example could be rewritten in a way that the variable name *rocket* would not need to be changed:"
   ]
  },
  {
   "cell_type": "code",
   "execution_count": 5,
   "metadata": {},
   "outputs": [
    {
     "name": "stdout",
     "output_type": "stream",
     "text": [
      "The rocket is at (0, 0).\n",
      "\n",
      "The shuttle is at (0, 0).\n",
      "The shuttle has completed 0 flights.\n"
     ]
    }
   ],
   "source": [
    "# Save as rocket_game.py\n",
    "import rocket as rocket_module\n",
    "\n",
    "rocket = rocket_module.Rocket()\n",
    "print(\"The rocket is at (%d, %d).\" % (rocket.x, rocket.y))\n",
    "\n",
    "shuttle = rocket_module.Shuttle()\n",
    "print(\"\\nThe shuttle is at (%d, %d).\" % (shuttle.x, shuttle.y))\n",
    "print(\"The shuttle has completed %d flights.\" % shuttle.flights_completed)"
   ]
  },
  {
   "cell_type": "markdown",
   "metadata": {},
   "source": [
    "This approach is often used to shorten the name of the module, so you don't have to type a long module name before each class name that you want to use. But it is easy to shorten a name so much that you force people reading your code to scroll to the top of your file and see what the shortened name stands for. In this example,"
   ]
  },
  {
   "cell_type": "code",
   "execution_count": null,
   "metadata": {},
   "outputs": [],
   "source": [
    "import rocket as rocket_module"
   ]
  },
  {
   "cell_type": "markdown",
   "metadata": {},
   "source": [
    "leads to much more readable code than something like:"
   ]
  },
  {
   "cell_type": "code",
   "execution_count": null,
   "metadata": {},
   "outputs": [],
   "source": [
    "import rocket as r"
   ]
  },
  {
   "cell_type": "markdown",
   "metadata": {},
   "source": [
    "### from *module_name* import *\n",
    "There is one more import syntax that you should be aware of, but you should probably avoid using. This syntax imports all of the available classes and functions in a module:"
   ]
  },
  {
   "cell_type": "code",
   "execution_count": null,
   "metadata": {},
   "outputs": [],
   "source": [
    "from module_name import *"
   ]
  },
  {
   "cell_type": "markdown",
   "metadata": {},
   "source": [
    "This is not recommended, for a couple reasons. First of all, you may have no idea what all the names of the classes and functions in a module are. If you accidentally give one of your variables the same name as a name from the module, you will have naming conflicts. Also, you may be importing way more code into your program than you need.\n",
    "\n",
    "If you really need all the functions and classes from a module, just import the module and use the `module_name.ClassName` syntax in your program."
   ]
  },
  {
   "cell_type": "markdown",
   "metadata": {},
   "source": [
    "You will get a sense of how to write your imports as you read more Python code, and as you write and share some of your own code."
   ]
  },
  {
   "cell_type": "markdown",
   "metadata": {},
   "source": [
    "[top](#)"
   ]
  },
  {
   "cell_type": "markdown",
   "metadata": {},
   "source": [
    "A module of functions\n",
    "---\n",
    "You can use modules to store a set of functions you want available in different programs as well, even if those functions are not attached to any one class. To do this, you save the functions into a file, and then import that file just as you saw in the last section. Here is a really simple example; save this is *multiplying.py*:"
   ]
  },
  {
   "cell_type": "code",
   "execution_count": 2,
   "metadata": {},
   "outputs": [],
   "source": [
    "# Save as multiplying.py\n",
    "def double(x):\n",
    "    return 2*x\n",
    "\n",
    "def triple(x):\n",
    "    return 3*x\n",
    "\n",
    "def quadruple(x):\n",
    "    return 4*x"
   ]
  },
  {
   "cell_type": "markdown",
   "metadata": {},
   "source": [
    "Now you can import the file *multiplying.py*, and use these functions. Using the `from module_name import function_name` syntax:"
   ]
  },
  {
   "cell_type": "code",
   "execution_count": 3,
   "metadata": {},
   "outputs": [
    {
     "name": "stdout",
     "output_type": "stream",
     "text": [
      "10\n",
      "15\n",
      "20\n"
     ]
    }
   ],
   "source": [
    "###highlight=[2]\n",
    "from multiplying import double, triple, quadruple\n",
    "\n",
    "print(double(5))\n",
    "print(triple(5))\n",
    "print(quadruple(5))"
   ]
  },
  {
   "cell_type": "markdown",
   "metadata": {},
   "source": [
    "Using the `import module_name` syntax:"
   ]
  },
  {
   "cell_type": "code",
   "execution_count": 4,
   "metadata": {},
   "outputs": [
    {
     "name": "stdout",
     "output_type": "stream",
     "text": [
      "10\n",
      "15\n",
      "20\n"
     ]
    }
   ],
   "source": [
    "###highlight=[2]\n",
    "import multiplying\n",
    "\n",
    "print(multiplying.double(5))\n",
    "print(multiplying.triple(5))\n",
    "print(multiplying.quadruple(5))"
   ]
  },
  {
   "cell_type": "markdown",
   "metadata": {},
   "source": [
    "Using the `import module_name as local_module_name` syntax:"
   ]
  },
  {
   "cell_type": "code",
   "execution_count": 5,
   "metadata": {},
   "outputs": [
    {
     "name": "stdout",
     "output_type": "stream",
     "text": [
      "10\n",
      "15\n",
      "20\n"
     ]
    }
   ],
   "source": [
    "###highlight=[2]\n",
    "import multiplying as m\n",
    "\n",
    "print(m.double(5))\n",
    "print(m.triple(5))\n",
    "print(m.quadruple(5))"
   ]
  },
  {
   "cell_type": "markdown",
   "metadata": {},
   "source": [
    "Using the `from module_name import *` syntax:"
   ]
  },
  {
   "cell_type": "code",
   "execution_count": 7,
   "metadata": {},
   "outputs": [
    {
     "name": "stdout",
     "output_type": "stream",
     "text": [
      "10\n",
      "15\n",
      "20\n"
     ]
    }
   ],
   "source": [
    "###highlight=[2]\n",
    "from multiplying import *\n",
    "\n",
    "print(double(5))\n",
    "print(triple(5))\n",
    "print(quadruple(5))"
   ]
  },
  {
   "cell_type": "markdown",
   "metadata": {},
   "source": [
    "[top](#)"
   ]
  },
  {
   "cell_type": "markdown",
   "metadata": {},
   "source": [
    "<a id=\"Exercises-importing\"></a>\n",
    "Exercises\n",
    "---\n",
    "#### Importing Student\n",
    "- Take your program from [Student Class](#exercise_student_class)\n",
    "    - Save your Person and Student classes in a separate file called *person.py*.\n",
    "    - Save the code that uses these classes in four separate files.\n",
    "        - In the first file, use the `from module_name import ClassName` syntax to make your program run.\n",
    "        - In the second file, use the `import module_name` syntax.\n",
    "        - In the third file, use the `import module_name as different_local_module_name` syntax.\n",
    "        - In the fourth file, use the `import *` syntax.\n",
    "        \n",
    "#### Importing Car\n",
    "- Take your program from [Car Class](#exercise_car_class)\n",
    "    - Save your Car class in a separate file called *car.py*.\n",
    "    - Save the code that uses the car class into four separate files.\n",
    "        - In the first file, use the `from module_name import ClassName` syntax to make your program run.\n",
    "        - In the second file, use the `import module_name` syntax.\n",
    "        - In the third file, use the `import module_name as different_local_module_name` syntax.\n",
    "        - In the fourth file, use the `import *` syntax."
   ]
  },
  {
   "cell_type": "markdown",
   "metadata": {},
   "source": [
    "[top](#)"
   ]
  },
  {
   "cell_type": "markdown",
   "metadata": {},
   "source": [
    "Revisiting PEP 8\n",
    "===\n",
    "If you recall, [PEP 8](http://www.python.org/dev/peps/pep-0008) is the style guide for writing Python code. PEP 8 has a little to say about writing classes and using `import` statements, that was not covered previously. Following these guidelines will help make your code readable to other Python programmers, and it will help you make more sense of the Python code you read."
   ]
  },
  {
   "cell_type": "markdown",
   "metadata": {},
   "source": [
    "Import statements\n",
    "---\n",
    "PEP8 provides clear guidelines about [where](http://www.python.org/dev/peps/pep-0008/#imports) import statements should appear in a file. The names of modules should be on separate lines:"
   ]
  },
  {
   "cell_type": "code",
   "execution_count": null,
   "metadata": {},
   "outputs": [],
   "source": [
    "# this\n",
    "import sys\n",
    "import os\n",
    "\n",
    "# not this\n",
    "import sys, os"
   ]
  },
  {
   "cell_type": "markdown",
   "metadata": {},
   "source": [
    "The names of classes can be on the same line:"
   ]
  },
  {
   "cell_type": "code",
   "execution_count": null,
   "metadata": {},
   "outputs": [],
   "source": [
    "from rocket import Rocket, Shuttle"
   ]
  },
  {
   "cell_type": "markdown",
   "metadata": {},
   "source": [
    "Imports should always be placed at the top of the file. When you are working on a longer program, you might have an idea that requires an import statement. You might write the import statement in the code block you are working on to see if your idea works. If you end up keeping the import, make sure you move the import statement to the top of the file. This lets anyone who works with your program see what modules are required for the program to work.\n",
    "\n",
    "Your import statements should be in a predictable order:\n",
    "\n",
    "- The first imports should be standard Python modules such as *sys*, *os*, and *math*.\n",
    "- The second set of imports should be \"third-party\" libraries. These are libraries that are written and maintained by independent programmers, which are not part of the official Python language. Examples of this are [pygame](http://pygame.org/news.html) and [requests](http://docs.python-requests.org/en/latest/)."
   ]
  },
  {
   "cell_type": "markdown",
   "metadata": {},
   "source": [
    "Module and class names\n",
    "---\n",
    "Modules should have [short, lowercase names](http://www.python.org/dev/peps/pep-0008/#package-and-module-names). If you want to have a space in the module name, use an underscore.\n",
    "\n",
    "[Class names](http://www.python.org/dev/peps/pep-0008/#class-names) should be written in *CamelCase*, with an initial capital letter and any new word capitalized. There should be no underscores in your class names.\n",
    "\n",
    "This convention helps distinguish modules from classes, for example when you are writing import statements."
   ]
  },
  {
   "cell_type": "markdown",
   "metadata": {},
   "source": [
    "[top](#)"
   ]
  },
  {
   "cell_type": "markdown",
   "metadata": {},
   "source": [
    "<a id=\"Exercises-pep8\"></a>\n",
    "Exercises\n",
    "---\n",
    "#### PEP 8 Compliance\n",
    "- Take a look at each of the programs you have written for this section, and make sure they comply with the guidelines from PEP 8.\n",
    "    - Make sure your import statements are formatted properly, and appear at the top of the file.\n",
    "    - Make sure your class names are formatted properly.\n",
    "    - Make sure your module names are formatted properly."
   ]
  },
  {
   "cell_type": "markdown",
   "metadata": {},
   "source": [
    "[top](#)"
   ]
  },
  {
   "cell_type": "markdown",
   "metadata": {},
   "source": [
    "- - -\n",
    "[Previous: More Functions](http://nbviewer.ipython.org/urls/raw.github.com/ehmatthes/intro_programming/master/notebooks/more_functions.ipynb) | \n",
    "[Home](http://nbviewer.ipython.org/urls/raw.github.com/ehmatthes/intro_programming/master/notebooks/index.ipynb)"
   ]
  }
 ],
 "metadata": {
  "kernelspec": {
   "display_name": "Python 3",
   "language": "python",
   "name": "python3"
  },
  "language_info": {
   "codemirror_mode": {
    "name": "ipython",
    "version": 3
   },
   "file_extension": ".py",
   "mimetype": "text/x-python",
   "name": "python",
   "nbconvert_exporter": "python",
   "pygments_lexer": "ipython3",
   "version": "3.6.2"
  }
 },
 "nbformat": 4,
 "nbformat_minor": 1
}
