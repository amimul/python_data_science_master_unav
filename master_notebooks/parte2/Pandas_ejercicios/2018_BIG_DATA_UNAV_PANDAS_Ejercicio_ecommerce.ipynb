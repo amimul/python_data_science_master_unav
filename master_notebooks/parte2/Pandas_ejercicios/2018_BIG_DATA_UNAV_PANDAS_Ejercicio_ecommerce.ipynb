{
 "cells": [
  {
   "cell_type": "markdown",
   "metadata": {},
   "source": [
    "\n",
    "# Ejercicio compras en un sitio ecommerce\n",
    "\n",
    "En este ejercicio, se nos proporciona datos falsos sobre algunas compras realizadas a través de Amazon. Simplemente sigue las instrucciones y responde las preguntas para completar las tareas. Puedes buscar las soluciones por Internet. La mayoría de las tareas se pueden resolver de diferentes maneras. En su mayor parte, las preguntas se vuelven progresivamente más difíciles.\n",
    "\n",
    "Pedimos disculpas si alguna cosa que no tiene sentido en el \"mundo real\" en el marco de data science, todos los datos son falsos y están inventados.\n",
    "\n",
    "Ten en cuenta que todas estas preguntas se pueden responder con una línea de código en general.\n",
    "____\n",
    "** Importa pandas y lee el archivo csv de compras de ecommerce y configúralo en un DataFrame llamado ecom. **"
   ]
  },
  {
   "cell_type": "code",
   "execution_count": null,
   "metadata": {},
   "outputs": [],
   "source": []
  },
  {
   "cell_type": "code",
   "execution_count": null,
   "metadata": {},
   "outputs": [],
   "source": []
  },
  {
   "cell_type": "markdown",
   "metadata": {},
   "source": [
    "**Comprueba el head del DataFrame.**"
   ]
  },
  {
   "cell_type": "code",
   "execution_count": null,
   "metadata": {},
   "outputs": [],
   "source": []
  },
  {
   "cell_type": "markdown",
   "metadata": {},
   "source": [
    "\n",
    "** ¿Cuántas filas y columnas hay? **"
   ]
  },
  {
   "cell_type": "code",
   "execution_count": null,
   "metadata": {},
   "outputs": [],
   "source": []
  },
  {
   "cell_type": "markdown",
   "metadata": {},
   "source": [
    "**¿Cuál es el precio de compra promedio?**"
   ]
  },
  {
   "cell_type": "code",
   "execution_count": null,
   "metadata": {},
   "outputs": [],
   "source": []
  },
  {
   "cell_type": "markdown",
   "metadata": {},
   "source": [
    "\n",
    "** ¿Cuáles fueron los precios de compra más altos y más bajos? **"
   ]
  },
  {
   "cell_type": "code",
   "execution_count": null,
   "metadata": {},
   "outputs": [],
   "source": []
  },
  {
   "cell_type": "code",
   "execution_count": null,
   "metadata": {},
   "outputs": [],
   "source": []
  },
  {
   "cell_type": "markdown",
   "metadata": {},
   "source": [
    "\n",
    "** ¿Cuántas personas tienen el inglés 'en' como su idioma de elección en el sitio web? **"
   ]
  },
  {
   "cell_type": "code",
   "execution_count": null,
   "metadata": {},
   "outputs": [],
   "source": []
  },
  {
   "cell_type": "markdown",
   "metadata": {},
   "source": [
    "\n",
    "** ¿Cuántas personas tienen el título de \"Abogado\"? **\n"
   ]
  },
  {
   "cell_type": "code",
   "execution_count": null,
   "metadata": {},
   "outputs": [],
   "source": []
  },
  {
   "cell_type": "markdown",
   "metadata": {},
   "source": [
    "** ¿Cuántas personas hicieron la compra durante la mañana y cuántas personas hicieron la compra durante la tarde? **\n",
    "\n",
    "** (Sugerencia: echa un vistazo a [value_counts ()] (http://pandas.pydata.org/pandas-docs/stable/generated/pandas.Series.value_counts.html) **"
   ]
  },
  {
   "cell_type": "code",
   "execution_count": null,
   "metadata": {},
   "outputs": [],
   "source": []
  },
  {
   "cell_type": "markdown",
   "metadata": {},
   "source": [
    "\n",
    "** ¿Cuáles son los 5 puestos de trabajo más comunes? **"
   ]
  },
  {
   "cell_type": "code",
   "execution_count": null,
   "metadata": {},
   "outputs": [],
   "source": []
  },
  {
   "cell_type": "markdown",
   "metadata": {},
   "source": [
    "** Alguien hizo una compra que vino de Lot: \"90 WT\", ¿cuál fue el precio de compra de esta transacción? **"
   ]
  },
  {
   "cell_type": "code",
   "execution_count": null,
   "metadata": {},
   "outputs": [],
   "source": []
  },
  {
   "cell_type": "markdown",
   "metadata": {},
   "source": [
    "** ¿Cuál es el correo electrónico de la persona con el siguiente número de tarjeta de crédito: 4926535242672853 **"
   ]
  },
  {
   "cell_type": "code",
   "execution_count": null,
   "metadata": {},
   "outputs": [],
   "source": []
  },
  {
   "cell_type": "markdown",
   "metadata": {},
   "source": [
    "** ¿Cuántas personas tienen American Express como su proveedor de tarjeta de crédito * y * hicieron una compra superior a $ 95? **"
   ]
  },
  {
   "cell_type": "code",
   "execution_count": null,
   "metadata": {},
   "outputs": [],
   "source": []
  },
  {
   "cell_type": "markdown",
   "metadata": {},
   "source": [
    "** Difícil: ¿Cuántas personas tienen una tarjeta de crédito que expira en 2025? **"
   ]
  },
  {
   "cell_type": "code",
   "execution_count": null,
   "metadata": {},
   "outputs": [],
   "source": []
  },
  {
   "cell_type": "markdown",
   "metadata": {},
   "source": [
    "** Difícil: cuáles son los 5 principales proveedores de correo electrónico más populares (por ejemplo, gmail.com, yahoo.com, etc.) **"
   ]
  },
  {
   "cell_type": "code",
   "execution_count": null,
   "metadata": {},
   "outputs": [],
   "source": []
  }
 ],
 "metadata": {
  "kernelspec": {
   "display_name": "Python 3",
   "language": "python",
   "name": "python3"
  },
  "language_info": {
   "codemirror_mode": {
    "name": "ipython",
    "version": 3
   },
   "file_extension": ".py",
   "mimetype": "text/x-python",
   "name": "python",
   "nbconvert_exporter": "python",
   "pygments_lexer": "ipython3",
   "version": "3.5.2"
  }
 },
 "nbformat": 4,
 "nbformat_minor": 1
}
