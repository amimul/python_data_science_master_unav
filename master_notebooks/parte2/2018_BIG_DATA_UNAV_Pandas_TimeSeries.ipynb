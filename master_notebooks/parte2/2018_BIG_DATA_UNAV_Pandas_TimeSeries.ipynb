{
 "cells": [
  {
   "cell_type": "markdown",
   "metadata": {},
   "source": [
    "# Trabajando con Series temporales\n",
    "\n",
    "En el mundo del Data Science es muy frecuente encontrarse en situaciones en las que debemos analizar series temporales, esto es, datos que tienen asociado siempre una marca de tiempo. Estas series suelen tener gran cantidad de datos, con lo que a veces resulta complicado trabajar con ellas.\n",
    "\n",
    "Veamos como hacer esto en Pandas.\n",
    "\n"
   ]
  },
  {
   "cell_type": "markdown",
   "metadata": {},
   "source": [
    "## Índice\n",
    "\n",
    "- [Introducción](#Introducci%C3%B3n)\n",
    "- [Cargando los datasets](#Cargando-los-datasets)\n",
    "- [Series temporales](#Series-temporales-o-timeseries)\n",
    "- [DataFrame](#DataFrame)\n",
    "- [Remuestreo](#Remuestreo)"
   ]
  },
  {
   "cell_type": "markdown",
   "metadata": {},
   "source": [
    "## Introducción\n",
    "\n",
    "Vamos a ver como ejemplo, dos series temporales, la [oscilación ártica](http://en.wikipedia.org/wiki/Arctic_oscillation) y la [oscilación del Atlántico Norte](http://en.wikipedia.org/wiki/North_Atlantic_oscillation), obtendremos los datasets para trabajar con ellos.\n",
    "\n",
    "Empezamos:"
   ]
  },
  {
   "cell_type": "code",
   "execution_count": null,
   "metadata": {},
   "outputs": [],
   "source": [
    "import pandas as pd\n",
    "import numpy as np\n",
    "from pandas import Series, DataFrame, Panel\n",
    "pd.set_option('display.max_rows',15) # Establecemos el maximo de filas a 15"
   ]
  },
  {
   "cell_type": "markdown",
   "metadata": {},
   "source": [
    "Activamos los gráficos inline para este notebook"
   ]
  },
  {
   "cell_type": "code",
   "execution_count": null,
   "metadata": {},
   "outputs": [],
   "source": [
    "%pylab inline"
   ]
  },
  {
   "cell_type": "markdown",
   "metadata": {},
   "source": [
    "Vamos a empezar a cargar datos"
   ]
  },
  {
   "cell_type": "markdown",
   "metadata": {},
   "source": [
    "## Cargando los datasets\n",
    "\n",
    "Podemos obtener el primer dataset accediendo a este [enlace](http://www.cpc.ncep.noaa.gov/products/precip/CWlink/daily_ao_index/monthly.ao.index.b50.current.ascii) o utilizando el siguiente comando en Linux o en Mac:\n",
    "\n"
   ]
  },
  {
   "cell_type": "code",
   "execution_count": null,
   "metadata": {},
   "outputs": [],
   "source": [
    "#!curl http://www.cpc.ncep.noaa.gov/products/precip/CWlink/daily_ao_index/monthly.ao.index.b50.current.ascii >> 'monthly.ao.index.b50.current.ascii'\n",
    "!wget http://www.cpc.ncep.noaa.gov/products/precip/CWlink/daily_ao_index/monthly.ao.index.b50.current.ascii"
   ]
  },
  {
   "cell_type": "markdown",
   "metadata": {},
   "source": [
    "Cargamos el dataset en un array numPy con el método `loadtxt()`"
   ]
  },
  {
   "cell_type": "code",
   "execution_count": null,
   "metadata": {},
   "outputs": [],
   "source": [
    "ao = np.loadtxt('monthly.ao.index.b50.current.ascii')\n",
    "ao"
   ]
  },
  {
   "cell_type": "markdown",
   "metadata": {},
   "source": [
    "Cada línea en el fichero consiste de tres elementos: año, mes y valor:"
   ]
  },
  {
   "cell_type": "code",
   "execution_count": null,
   "metadata": {},
   "outputs": [],
   "source": [
    "ao[0:2]"
   ]
  },
  {
   "cell_type": "markdown",
   "metadata": {},
   "source": [
    "Y la forma del array:"
   ]
  },
  {
   "cell_type": "code",
   "execution_count": null,
   "metadata": {},
   "outputs": [],
   "source": [
    "ao.shape"
   ]
  },
  {
   "cell_type": "markdown",
   "metadata": {},
   "source": [
    "## Series temporales o timeseries\n",
    "\n",
    "Vamos a convertir estos datos en series temporales, que puedan ser manipuladas de forma natural y sencilla. El primero paso que tenemos que hacer es crear el rango de fechas para nuestra serie temporal. Viendo el fichero es sencillo, vemos que el primer registro es Enero 1959 y generar tantos timestamps como registros. La frecuencia de los datos es mensual."
   ]
  },
  {
   "cell_type": "code",
   "execution_count": null,
   "metadata": {},
   "outputs": [],
   "source": [
    "fechas = pd.date_range('1950-01', periods=ao.shape[0], freq='M')\n",
    "fechas"
   ]
  },
  {
   "cell_type": "markdown",
   "metadata": {},
   "source": [
    "Aqui estamos generando un periodo mensual desde el inicio del primer registro hasta el ultimo. \n",
    "\n",
    "Ahora podemos empezar a crear nuestra primera serie temporal. Las fechas de las variables fecha acturaran de índice y los valores AO, pues eso, los valores."
   ]
  },
  {
   "cell_type": "code",
   "execution_count": null,
   "metadata": {},
   "outputs": [],
   "source": [
    "AO = Series(ao[:,2], index=fechas)\n",
    "AO"
   ]
  },
  {
   "cell_type": "markdown",
   "metadata": {},
   "source": [
    "Vamos a dibujar la serie"
   ]
  },
  {
   "cell_type": "code",
   "execution_count": null,
   "metadata": {},
   "outputs": [],
   "source": [
    "AO.plot()"
   ]
  },
  {
   "cell_type": "markdown",
   "metadata": {},
   "source": [
    "O una parte solo:"
   ]
  },
  {
   "cell_type": "code",
   "execution_count": null,
   "metadata": {},
   "outputs": [],
   "source": [
    "AO['1980':'1990'].plot()"
   ]
  },
  {
   "cell_type": "markdown",
   "metadata": {},
   "source": [
    "A nivel de mes"
   ]
  },
  {
   "cell_type": "code",
   "execution_count": null,
   "metadata": {
    "hideCode": false
   },
   "outputs": [],
   "source": [
    "AO['1980-05':'1981-03'].plot()"
   ]
  },
  {
   "cell_type": "markdown",
   "metadata": {},
   "source": [
    "Como vemos el acceso a las series temporales es muy sencillo e intuitivo. Podemos acceder por índice numérico"
   ]
  },
  {
   "cell_type": "code",
   "execution_count": null,
   "metadata": {},
   "outputs": [],
   "source": [
    "AO[120]"
   ]
  },
  {
   "cell_type": "markdown",
   "metadata": {},
   "source": [
    "Por índice de fecha:"
   ]
  },
  {
   "cell_type": "code",
   "execution_count": null,
   "metadata": {},
   "outputs": [],
   "source": [
    "AO['1960-01']"
   ]
  },
  {
   "cell_type": "markdown",
   "metadata": {},
   "source": [
    "Un año entero"
   ]
  },
  {
   "cell_type": "code",
   "execution_count": null,
   "metadata": {},
   "outputs": [],
   "source": [
    "AO['1960']"
   ]
  },
  {
   "cell_type": "markdown",
   "metadata": {},
   "source": [
    "Como siempre, podemos realizar accesos condicionales"
   ]
  },
  {
   "cell_type": "code",
   "execution_count": null,
   "metadata": {},
   "outputs": [],
   "source": [
    "AO[AO > 0]"
   ]
  },
  {
   "cell_type": "markdown",
   "metadata": {
    "collapsed": true
   },
   "source": [
    "## DataFrame\n",
    "\n",
    "Vamos a añadir más datos, el segundo dataset. Podemos descargar el segundo dataset desde [aqui](http://www.cpc.ncep.noaa.gov/products/precip/CWlink/pna/norm.nao.monthly.b5001.current.ascii) o con el siguiente comando"
   ]
  },
  {
   "cell_type": "code",
   "execution_count": null,
   "metadata": {},
   "outputs": [],
   "source": [
    "#!curl http://www.cpc.ncep.noaa.gov/products/precip/CWlink/pna/norm.nao.monthly.b5001.current.ascii >> 'norm.nao.monthly.b5001.current.ascii'\n",
    "!wget http://www.cpc.ncep.noaa.gov/products/precip/CWlink/pna/norm.nao.monthly.b5001.current.ascii"
   ]
  },
  {
   "cell_type": "markdown",
   "metadata": {},
   "source": [
    "Cargamos el dataset como hemos hecho en el caso del primero:"
   ]
  },
  {
   "cell_type": "code",
   "execution_count": null,
   "metadata": {},
   "outputs": [],
   "source": [
    "nao = np.loadtxt('norm.nao.monthly.b5001.current.ascii')\n",
    "fechas_nao = pd.date_range('1950-01', periods=nao.shape[0], freq='M')\n",
    "NAO = Series(nao[:,2], index=fechas_nao)\n",
    "NAO"
   ]
  },
  {
   "cell_type": "markdown",
   "metadata": {},
   "source": [
    "El período de tiempo es identico en los dos datasets:"
   ]
  },
  {
   "cell_type": "code",
   "execution_count": null,
   "metadata": {},
   "outputs": [],
   "source": [
    "NAO.index"
   ]
  },
  {
   "cell_type": "markdown",
   "metadata": {},
   "source": [
    "\n",
    "Podemos crear ahora un DataFrame que contenga los datos de AO y NAO. "
   ]
  },
  {
   "cell_type": "code",
   "execution_count": null,
   "metadata": {},
   "outputs": [],
   "source": [
    "aonao = DataFrame({'AO' : AO, 'NAO' : NAO})\n",
    "\n",
    "# Forma alternativa de crear el DataFrame\n",
    "'''\n",
    "ao_df = pd.read_table('monthly.ao.index.b50.current.ascii', sep='\\s+', header=None,)\n",
    "nao_df = pd.read_table('norm.nao.monthly.b5001.current.ascii', sep='\\s+', header=None,)\n",
    "ao_nao_df = pd.merge(ao_df, nao_df, on=[0, 1])\n",
    "ao_nao_df.columns = ['Año', 'Mes', 'AO', 'NAO']\n",
    "ao_nao_df.head()\n",
    "'''\n",
    "aonao.head()"
   ]
  },
  {
   "cell_type": "markdown",
   "metadata": {},
   "source": [
    "Vamos a dibujar el DataFrame"
   ]
  },
  {
   "cell_type": "code",
   "execution_count": null,
   "metadata": {},
   "outputs": [],
   "source": [
    "aonao.plot(subplots=True)"
   ]
  },
  {
   "cell_type": "markdown",
   "metadata": {},
   "source": [
    "Podemos referenciar cada columna por el nombre"
   ]
  },
  {
   "cell_type": "code",
   "execution_count": null,
   "metadata": {},
   "outputs": [],
   "source": [
    "aonao['NAO']"
   ]
  },
  {
   "cell_type": "markdown",
   "metadata": {},
   "source": [
    "O directamente como método del DataFrame"
   ]
  },
  {
   "cell_type": "code",
   "execution_count": null,
   "metadata": {},
   "outputs": [],
   "source": [
    "aonao.NAO"
   ]
  },
  {
   "cell_type": "markdown",
   "metadata": {},
   "source": [
    "Como siempre, podemos hacer queries complejas sobre este DataFrame, como obtener todos los valores de NAO negavitos en meses positivos de AO entre dos fechas:"
   ]
  },
  {
   "cell_type": "code",
   "execution_count": null,
   "metadata": {},
   "outputs": [],
   "source": [
    "import datetime\n",
    "aonao.loc[(aonao.AO > 0) & (aonao.NAO < 0) \n",
    "        & (aonao.index > datetime.datetime(1980,1,1)) \n",
    "        & (aonao.index < datetime.datetime(1989,1,1)),\n",
    "        'NAO'].plot(kind='barh')"
   ]
  },
  {
   "cell_type": "markdown",
   "metadata": {},
   "source": [
    "## Remuestreo\n",
    "\n",
    "Pandas provee un método sencillo para remuestrear los datos a una frecuencia de datos diferente. Dos parámetros para remuestrear son el periódo de tiempo al que queremos cambiar y el método a usar para hacerlo. Por defecto el método es la media. El siguiente ejemplo calcula la media anual \"A\".\n"
   ]
  },
  {
   "cell_type": "code",
   "execution_count": null,
   "metadata": {},
   "outputs": [],
   "source": [
    "AO_mm = AO.resample(\"A\").mean() # https://stackoverflow.com/a/17001474/526801 para ver valores de rule\n",
    "AO_mm.plot(style='g--')"
   ]
  },
  {
   "cell_type": "markdown",
   "metadata": {},
   "source": [
    "Con la mediana:"
   ]
  },
  {
   "cell_type": "code",
   "execution_count": null,
   "metadata": {},
   "outputs": [],
   "source": [
    "AO_mm = AO.resample(\"A\").median()\n",
    "AO_mm.plot()"
   ]
  },
  {
   "cell_type": "markdown",
   "metadata": {},
   "source": [
    "\n",
    "Podemos usar nuestros propios metodos para remuestreo, por ejemplo, `np.max` para cambiar el remuestreo, en este caso a 3 años (3A)"
   ]
  },
  {
   "cell_type": "code",
   "execution_count": null,
   "metadata": {},
   "outputs": [],
   "source": [
    "AO_mm = AO.resample(\"3A\").apply(np.max)\n",
    "AO_mm.plot()"
   ]
  },
  {
   "cell_type": "markdown",
   "metadata": {},
   "source": [
    "También podemos usar varias funciones para el remuestreo"
   ]
  },
  {
   "cell_type": "code",
   "execution_count": null,
   "metadata": {},
   "outputs": [],
   "source": [
    "AO_mm = AO.resample(\"A\").apply(['mean', np.min, np.max])\n",
    "AO_mm['1900':'2020'].plot(subplots=True)\n",
    "AO_mm['1900':'2020'].plot()"
   ]
  }
 ],
 "metadata": {
  "anaconda-cloud": {},
  "kernelspec": {
   "display_name": "Python 3",
   "language": "python",
   "name": "python3"
  },
  "language_info": {
   "codemirror_mode": {
    "name": "ipython",
    "version": 3
   },
   "file_extension": ".py",
   "mimetype": "text/x-python",
   "name": "python",
   "nbconvert_exporter": "python",
   "pygments_lexer": "ipython3",
   "version": "3.5.2"
  }
 },
 "nbformat": 4,
 "nbformat_minor": 1
}
