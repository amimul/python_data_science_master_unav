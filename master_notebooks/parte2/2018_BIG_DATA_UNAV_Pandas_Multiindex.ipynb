{
 "cells": [
  {
   "cell_type": "markdown",
   "metadata": {},
   "source": [
    "# MultiIndexes\n",
    "\n",
    "Los multiindexes nos permiten añadir más de un indice a nuestros DataFrames, lo que al final permite categorizar los DataFrames de mejor forma, ya sea, a través de mas índices o a traves de mas capas o layers. Esto nos permite hacer operaciones como pivotar los datos, despivotar, que nos permiten hacer cosas muy interesantes. Es más fácil explicarlo con ejemplos que con teorías si que vamos a ello.\n",
    "\n"
   ]
  },
  {
   "cell_type": "markdown",
   "metadata": {},
   "source": [
    "## Índice\n",
    "\n",
    "- [Introducción](#Introducci%C3%B3n)\n",
    "- [Crear un MultiIndex con el método set_index](#Crear-un-MultiIndex-con-el-m%C3%A9todo-.set_index)\n",
    "- [El método get_level_values](#El-m%C3%A9todo-.get_level_values)\n",
    "- [El método set_names](#El-m%C3%A9todo-.set_names-en-MultiIndex)\n",
    "- [Extraer filas de un DataFrame MultiIndex](#Extraer-filas-de-un-MultiIndex-DataFrame)\n",
    "- [El método transpose](#El-m%C3%A9todo-.transpose)\n",
    "- [El método swaplevel](#El-m%C3%A9todo-.swaplevel)\n",
    "- [El método sort_index en un DataFrame MultiIndex](#El-m%C3%A9todo-.sort_index-en-un-MultiIndex-DataFrame)\n",
    "- [El método pivot](#El-m%C3%A9todo-pivot)\n",
    "- [El método stack](#El-m%C3%A9todo-.stack)\n",
    "- [El método unstack Parte 1](#El-m%C3%A9todo-.unstack--Parte-1)\n",
    "- [El método unstack Parte 2](#El-m%C3%A9todo-.unstack--Parte-2)\n",
    "- [El método unstack Parte 3](#El-m%C3%A9todo-.unstack--Parte-3)\n",
    "- [El método pivot_table](#El-m%C3%A9todo-pivot_table)\n",
    "- [El método melt](#El-m%C3%A9todo-pd.melt)\n"
   ]
  },
  {
   "cell_type": "markdown",
   "metadata": {},
   "source": [
    "## Introducción"
   ]
  },
  {
   "cell_type": "code",
   "execution_count": null,
   "metadata": {},
   "outputs": [],
   "source": [
    "import pandas as pd"
   ]
  },
  {
   "cell_type": "markdown",
   "metadata": {},
   "source": [
    "Vamos a abrir un fichero que contiene el precio de la deliciosa BigMac en varios países"
   ]
  },
  {
   "cell_type": "code",
   "execution_count": null,
   "metadata": {},
   "outputs": [],
   "source": [
    "bigmac = pd.read_csv(\"pandas/bigmac.csv\")\n",
    "bigmac.sort_values('Price in US Dollars').head(3)"
   ]
  },
  {
   "cell_type": "code",
   "execution_count": null,
   "metadata": {},
   "outputs": [],
   "source": [
    "bigmac.dtypes\n",
    "bigmac.info()"
   ]
  },
  {
   "cell_type": "markdown",
   "metadata": {},
   "source": [
    "Parseamos la columna Date para que tenga mejor pinta y los convertimos a datetime objetos"
   ]
  },
  {
   "cell_type": "code",
   "execution_count": null,
   "metadata": {},
   "outputs": [],
   "source": [
    "bigmac = pd.read_csv(\"pandas/bigmac.csv\", parse_dates = [\"Date\"])\n",
    "bigmac.head(3)"
   ]
  },
  {
   "cell_type": "markdown",
   "metadata": {},
   "source": [
    "## Crear un MultiIndex con el método `.set_index`\n",
    "\n",
    "Vamos a crear nuestro primer multiIndex sobre el dataframe de BigMacs, veámos como, importamos el csv como antes."
   ]
  },
  {
   "cell_type": "code",
   "execution_count": null,
   "metadata": {},
   "outputs": [],
   "source": [
    "bigmac = pd.read_csv(\"pandas/bigmac.csv\", parse_dates = [\"Date\"])\n",
    "bigmac.head(3)"
   ]
  },
  {
   "cell_type": "markdown",
   "metadata": {},
   "source": [
    "Ya hemos utilizando `set_index()` antes para crear un nuevo índice sobre un DataFrame, en este caso lo vamos hacer para crear uno múltiple, pero primero veamos como funcionaba con un único parámetro:"
   ]
  },
  {
   "cell_type": "code",
   "execution_count": null,
   "metadata": {},
   "outputs": [],
   "source": [
    "dates = bigmac.set_index(keys = [\"Date\"])\n",
    "dates.head(3)"
   ]
  },
  {
   "cell_type": "markdown",
   "metadata": {},
   "source": [
    "Podemos ver que la columna Date se convierte en indice porque se mueve a la izquierda y está en negrita. Vamos a crear un multiIndex para Date y Country"
   ]
  },
  {
   "cell_type": "code",
   "execution_count": null,
   "metadata": {},
   "outputs": [],
   "source": [
    "bigmac = pd.read_csv(\"pandas/bigmac.csv\", parse_dates = [\"Date\"])\n",
    "bigmac.set_index(keys = [\"Date\", \"Country\"], inplace = True)\n",
    "bigmac"
   ]
  },
  {
   "cell_type": "code",
   "execution_count": null,
   "metadata": {},
   "outputs": [],
   "source": [
    "bigmac.sort_index(inplace = True)"
   ]
  },
  {
   "cell_type": "code",
   "execution_count": null,
   "metadata": {},
   "outputs": [],
   "source": [
    "bigmac.head(3)"
   ]
  },
  {
   "cell_type": "markdown",
   "metadata": {},
   "source": [
    "Vamos a ver que pasa si intentamos ordenar los indices. Vamos a usar la función `sort_index()`"
   ]
  },
  {
   "cell_type": "code",
   "execution_count": null,
   "metadata": {},
   "outputs": [],
   "source": [
    "bigmac.sort_index()"
   ]
  },
  {
   "cell_type": "markdown",
   "metadata": {},
   "source": [
    "Como vemos se ordenan de orden ascendente los dos valores, Date y Country. Veamos como obtener información de los indices."
   ]
  },
  {
   "cell_type": "code",
   "execution_count": null,
   "metadata": {},
   "outputs": [],
   "source": [
    "bigmac.index"
   ]
  },
  {
   "cell_type": "code",
   "execution_count": null,
   "metadata": {},
   "outputs": [],
   "source": [
    "bigmac.index.names"
   ]
  },
  {
   "cell_type": "code",
   "execution_count": null,
   "metadata": {},
   "outputs": [],
   "source": [
    "type(bigmac.index)"
   ]
  },
  {
   "cell_type": "code",
   "execution_count": null,
   "metadata": {},
   "outputs": [],
   "source": [
    "bigmac.index[0]"
   ]
  },
  {
   "cell_type": "markdown",
   "metadata": {},
   "source": [
    "## El método `.get_level_values`\n",
    "\n",
    "Este método nos permite obtener los valores para un indice o layer en concreto. Veámos como se usa. Vamos a obtener un multiIndex pero usando una nueva forma, al leer el fichero csv le pasamos directamente los indices que queremos usar."
   ]
  },
  {
   "cell_type": "code",
   "execution_count": null,
   "metadata": {},
   "outputs": [],
   "source": [
    "bigmac = pd.read_csv(\"pandas/bigmac.csv\", parse_dates = [\"Date\"], index_col = [\"Date\", \"Country\"])\n",
    "bigmac.sort_index(inplace = True) # Siempre es recomendable que indexemos para tener una secuencia de elementos ordenada\n",
    "bigmac.head(3)"
   ]
  },
  {
   "cell_type": "markdown",
   "metadata": {},
   "source": [
    "Veamos como podemos obtener el valor del primer indice con la función `get_level_values()`, al que le podemos pasar un valor númerico para especificar el indice o un valor string para especificarlo en función del nombre"
   ]
  },
  {
   "cell_type": "code",
   "execution_count": null,
   "metadata": {},
   "outputs": [],
   "source": [
    "#bigmac.index.get_level_values(0)\n",
    "bigmac.index.get_level_values(\"Date\")"
   ]
  },
  {
   "cell_type": "code",
   "execution_count": null,
   "metadata": {},
   "outputs": [],
   "source": [
    "#bigmac.index.get_level_values(1)\n",
    "bigmac.index.get_level_values(\"Country\")"
   ]
  },
  {
   "cell_type": "markdown",
   "metadata": {
    "hideCode": false
   },
   "source": [
    "En general queremos usar un índice cuando no conocemos el nombre del índice y un string cuando sí lo sabemos."
   ]
  },
  {
   "cell_type": "markdown",
   "metadata": {
    "collapsed": true
   },
   "source": [
    "## El método `.set_names` en MultiIndex\n",
    "\n",
    "Vamos a ver para que sirve este método que se ejecuta directamente sobre el objeto MultiIndex. Creamos un DataFrame como en el caso anterior:"
   ]
  },
  {
   "cell_type": "code",
   "execution_count": null,
   "metadata": {},
   "outputs": [],
   "source": [
    "bigmac = pd.read_csv(\"pandas/bigmac.csv\", parse_dates = [\"Date\"], index_col = [\"Date\", \"Country\"])\n",
    "bigmac.sort_index(inplace = True)\n",
    "bigmac.head(3)"
   ]
  },
  {
   "cell_type": "code",
   "execution_count": null,
   "metadata": {},
   "outputs": [],
   "source": [
    "bigmac.index.set_names([\"Luis\"], inplace = True)"
   ]
  },
  {
   "cell_type": "code",
   "execution_count": null,
   "metadata": {},
   "outputs": [],
   "source": [
    "bigmac.head(3)"
   ]
  },
  {
   "cell_type": "markdown",
   "metadata": {},
   "source": [
    "Como podemos ver, este método nos permite cambiar el nombre de un índice ya creado en el DataFrame. Si proveemos el mismo nombre que ya teníamos en un índice, basta con dejar el mismo nombre."
   ]
  },
  {
   "cell_type": "markdown",
   "metadata": {
    "collapsed": true
   },
   "source": [
    "## Extraer filas de un `MultiIndex DataFrame`\n",
    "\n",
    "Vamos a ver como podemos obtener filas de un DataFrame construido con un MultiIndex. Como siempre procedemos a leer nuestro csv y cargar el DataFrame.\n",
    "\n",
    "\n"
   ]
  },
  {
   "cell_type": "code",
   "execution_count": null,
   "metadata": {},
   "outputs": [],
   "source": [
    "bigmac = pd.read_csv(\"pandas/bigmac.csv\", parse_dates = [\"Date\"], index_col = [\"Date\", \"Country\"])\n",
    "bigmac.sort_index(inplace = True)\n",
    "bigmac.head(3)"
   ]
  },
  {
   "cell_type": "markdown",
   "metadata": {},
   "source": [
    "Vamos a utilizar el metodo loc para acceder a una fila del DataFrame. El método loc acepta etiquetas como índices, pero en nuestro caso, como tenemos dos índices, debemos usar una tupla para especificar las etiquetas para los índices que vamos a usar, y como último parámetro, especificamos el valor que queremos extraer (la serie o columna), de no ser así nos devolvería todas las diposnibles para las etiquetas suministradas."
   ]
  },
  {
   "cell_type": "code",
   "execution_count": null,
   "metadata": {},
   "outputs": [],
   "source": [
    "bigmac.loc[(\"2010-01-01\", \"Brazil\"), \"Price in US Dollars\"]"
   ]
  },
  {
   "cell_type": "markdown",
   "metadata": {},
   "source": [
    "Veamos algunos ejemplos mas:"
   ]
  },
  {
   "cell_type": "code",
   "execution_count": null,
   "metadata": {},
   "outputs": [],
   "source": [
    "bigmac.loc[(\"2015-07-01\", \"Chile\"), \"Price in US Dollars\"]"
   ]
  },
  {
   "cell_type": "markdown",
   "metadata": {},
   "source": [
    "Veamos como con el método ix, que elimina los indices de los resultados obtenidos, pero el método de busqueda es muy parecido"
   ]
  },
  {
   "cell_type": "code",
   "execution_count": null,
   "metadata": {},
   "outputs": [],
   "source": [
    "bigmac.ix[(\"2016-01-01\", \"China\")]"
   ]
  },
  {
   "cell_type": "markdown",
   "metadata": {},
   "source": [
    "Recordemos que ix nos permite acceder a la serie con string o índice"
   ]
  },
  {
   "cell_type": "code",
   "execution_count": null,
   "metadata": {},
   "outputs": [],
   "source": [
    "bigmac.ix[(\"2016-01-01\", \"China\"), \"Price in US Dollars\"]"
   ]
  },
  {
   "cell_type": "code",
   "execution_count": null,
   "metadata": {},
   "outputs": [],
   "source": [
    "bigmac.ix[(\"2016-01-01\", \"China\"), 0]"
   ]
  },
  {
   "cell_type": "markdown",
   "metadata": {
    "collapsed": true
   },
   "source": [
    "## El método `.transpose`\n",
    "\n",
    "Este método permite cambiar los ejes básicamente, veámos como funciona con un DataFrame con MultiIndex . Como siempre empezamos cargando el DataFrame. "
   ]
  },
  {
   "cell_type": "code",
   "execution_count": null,
   "metadata": {},
   "outputs": [],
   "source": [
    "bigmac = pd.read_csv(\"pandas/bigmac.csv\", parse_dates = [\"Date\"], index_col = [\"Date\", \"Country\"])\n",
    "bigmac.sort_index(inplace = True)\n",
    "bigmac"
   ]
  },
  {
   "cell_type": "code",
   "execution_count": null,
   "metadata": {},
   "outputs": [],
   "source": [
    "bigmac = bigmac.transpose()\n",
    "bigmac.head(1)"
   ]
  },
  {
   "cell_type": "markdown",
   "metadata": {},
   "source": [
    "Hemos pasado de tener una columna con 652 filas, a 652 columnas y una única fila. Para poder acceder a una serie en particular podemos utilizar el método ix como antes, pero esta vez cambiando el orden de los parámetros, ya que ahora el primer elemento es un índice normal y no require una tupla."
   ]
  },
  {
   "cell_type": "code",
   "execution_count": null,
   "metadata": {},
   "outputs": [],
   "source": [
    "bigmac.ix[\"Price in US Dollars\", (\"2016-01-01\", \"Denmark\")]"
   ]
  },
  {
   "cell_type": "markdown",
   "metadata": {
    "collapsed": true
   },
   "source": [
    "## El método `.swaplevel`\n",
    "\n",
    "Este método permitir cambiar un level por otro. Veámos como funciona."
   ]
  },
  {
   "cell_type": "code",
   "execution_count": null,
   "metadata": {},
   "outputs": [],
   "source": [
    "bigmac = pd.read_csv(\"pandas/bigmac.csv\", parse_dates = [\"Date\"], index_col = [\"Date\", \"Country\"])\n",
    "bigmac.sort_index(inplace = True)\n",
    "bigmac.head(3)"
   ]
  },
  {
   "cell_type": "code",
   "execution_count": null,
   "metadata": {},
   "outputs": [],
   "source": [
    "bigmac = bigmac.swaplevel()\n",
    "bigmac.head(3)"
   ]
  },
  {
   "cell_type": "markdown",
   "metadata": {},
   "source": [
    "Como podemos ver se cambia un level por otro (un índice por otro), cuando tenemos dos, no hay que proveer ningún argumento a este método, pero si hay más de dos, es conveniente mirar la [documentación](https://pandas.pydata.org/pandas-docs/stable/advanced.html#swapping-levels-with-swaplevel). Hay formás mas sencillas de hacer esto, reseteando los índices o cambiando el orden al cargar el csv."
   ]
  },
  {
   "cell_type": "markdown",
   "metadata": {
    "collapsed": true
   },
   "source": [
    "## El método `.sort_index` en un MultiIndex `DataFrame`\n",
    "\n",
    "Vamos a ver de nuevo el método `sort_index()` para ver como funciona en más detalle. Empezamos recreando de nuevo nuestro DataFrame de siempre."
   ]
  },
  {
   "cell_type": "code",
   "execution_count": null,
   "metadata": {},
   "outputs": [],
   "source": [
    "bigmac = pd.read_csv(\"pandas/bigmac.csv\", parse_dates = [\"Date\"], index_col = [\"Date\", \"Country\"])\n",
    "bigmac.sort_index(inplace = True)\n",
    "bigmac.head(3)"
   ]
  },
  {
   "cell_type": "markdown",
   "metadata": {},
   "source": [
    "Este método tiene un parámetro llamado ascending que si le damos un valor `True` ordenará todos los índices de forma ascendente"
   ]
  },
  {
   "cell_type": "code",
   "execution_count": null,
   "metadata": {},
   "outputs": [],
   "source": [
    "bigmac.sort_index(ascending=True, inplace=True)\n",
    "bigmac"
   ]
  },
  {
   "cell_type": "markdown",
   "metadata": {},
   "source": [
    "Podemos ordenar cada índice de forma separada, simplemente pasado una lista de booleanos al parámetro ascending, los irá mapeando de forma sucesiva a nuestros índices, es decir, el primer elemento de la lista será Date y la segunda Country en nuestro caso. "
   ]
  },
  {
   "cell_type": "code",
   "execution_count": null,
   "metadata": {},
   "outputs": [],
   "source": [
    "bigmac.sort_index(ascending = [True, False], inplace = True)"
   ]
  },
  {
   "cell_type": "code",
   "execution_count": null,
   "metadata": {},
   "outputs": [],
   "source": [
    "bigmac.head(3)\n",
    "bigmac.tail(10)"
   ]
  },
  {
   "cell_type": "markdown",
   "metadata": {
    "collapsed": true
   },
   "source": [
    "Podemos ver como fácilmente podemos aplicar criterios distintos de ordenación por índice."
   ]
  },
  {
   "cell_type": "markdown",
   "metadata": {},
   "source": [
    "## El método `pivot`\n",
    "\n",
    "El método `pivot` se suele utilizar para convertir valores de columnas a cabeceras de columnas. Veámos como. Vamos a utilizar un nuevo dataset llamado salesmen.csv que contiene el nombre, fecha e ingresos obtenidos por cada comerciante de ventas."
   ]
  },
  {
   "cell_type": "code",
   "execution_count": null,
   "metadata": {},
   "outputs": [],
   "source": [
    "sales = pd.read_csv(\"pandas/salesmen.csv\", parse_dates = [\"Date\"])\n",
    "\n",
    "sales['Salesman'].value_counts()\n",
    "\n",
    "# Como solo hay 5 valores unicos en la columna salesman, vamos a convertirlo a cateogria\n",
    "sales[\"Salesman\"] = sales[\"Salesman\"].astype(\"category\")\n",
    "sales.head(3)\n"
   ]
  },
  {
   "cell_type": "markdown",
   "metadata": {},
   "source": [
    "Como la columna Salesman se repite mucho, nos puede interesar pivotar la información para mostrarla de otra forma que sea mejor."
   ]
  },
  {
   "cell_type": "code",
   "execution_count": null,
   "metadata": {},
   "outputs": [],
   "source": [
    "sales.pivot(index='Date', columns='Salesman', values='Revenue').head(3)"
   ]
  },
  {
   "cell_type": "markdown",
   "metadata": {},
   "source": [
    "## El método `.stack`\n",
    "\n",
    "Este método permite mover el indíce de columna al índice horizontal, el que está más a la izquierda del todo. Esto es más fácil de entender si lo vemos en práctica que de forma escrita. \n",
    "\n",
    "Vamos a abrir un fichero llamado worldstats.csv que contiene paises, población, años y GPD (el PIB) y veamos como usar el método `stack()`"
   ]
  },
  {
   "cell_type": "code",
   "execution_count": null,
   "metadata": {},
   "outputs": [],
   "source": [
    "world = pd.read_csv(\"pandas/worldstats.csv\", index_col = [\"country\", \"year\"])\n",
    "world.head(3)"
   ]
  },
  {
   "cell_type": "code",
   "execution_count": null,
   "metadata": {},
   "outputs": [],
   "source": [
    "world.stack().to_frame()"
   ]
  },
  {
   "cell_type": "markdown",
   "metadata": {},
   "source": [
    "Básicamente, stack acopla las columnas en los índices que hemos creado al cargar el csv, en este caso Country y Year. El resultado de stack es un objecto Series, así que podemos usar el metodo `to_frame()` para convertirlo a DataFrame."
   ]
  },
  {
   "cell_type": "markdown",
   "metadata": {},
   "source": [
    "## El método `.unstack`  Parte 1\n",
    "\n",
    "El método `unstack()` permite deshacer una operación stack, evidentemente. Veámos como funciona."
   ]
  },
  {
   "cell_type": "code",
   "execution_count": null,
   "metadata": {},
   "outputs": [],
   "source": [
    "world = pd.read_csv(\"pandas/worldstats.csv\", index_col = [\"country\", \"year\"])\n",
    "world.head(3)"
   ]
  },
  {
   "cell_type": "code",
   "execution_count": null,
   "metadata": {},
   "outputs": [],
   "source": [
    "# Hacemos stack\n",
    "s = world.stack()\n",
    "s.head(3)"
   ]
  },
  {
   "cell_type": "markdown",
   "metadata": {},
   "source": [
    "Vamos a llamar al método `unstack()` para ver si podemos volver a nuestro DataFrame "
   ]
  },
  {
   "cell_type": "code",
   "execution_count": null,
   "metadata": {},
   "outputs": [],
   "source": [
    "s.unstack()"
   ]
  },
  {
   "cell_type": "code",
   "execution_count": null,
   "metadata": {},
   "outputs": [],
   "source": [
    "s.unstack().unstack()"
   ]
  },
  {
   "cell_type": "code",
   "execution_count": null,
   "metadata": {},
   "outputs": [],
   "source": [
    "s.unstack().unstack().unstack()"
   ]
  },
  {
   "cell_type": "markdown",
   "metadata": {},
   "source": [
    "## El método `.unstack`  Parte 2\n"
   ]
  },
  {
   "cell_type": "code",
   "execution_count": null,
   "metadata": {},
   "outputs": [],
   "source": [
    "world = pd.read_csv(\"pandas/worldstats.csv\", index_col = [\"country\", \"year\"])\n",
    "world.head(3)"
   ]
  },
  {
   "cell_type": "code",
   "execution_count": null,
   "metadata": {},
   "outputs": [],
   "source": [
    "s = world.stack()\n",
    "s.head(3)"
   ]
  },
  {
   "cell_type": "markdown",
   "metadata": {
    "hideCode": false
   },
   "source": [
    "El método unstack acepta un índice, el que queremos \"desapilar\". Dicho esto, en nuestro caso Country es en índice 0 y year el índice 1, por lo que si queremos desapilar el índice country y que pase a formar parte de las columnas, podemos hacer"
   ]
  },
  {
   "cell_type": "code",
   "execution_count": null,
   "metadata": {},
   "outputs": [],
   "source": [
    "s.unstack(0)"
   ]
  },
  {
   "cell_type": "markdown",
   "metadata": {},
   "source": [
    "Como curiosidad, podemos acceder también al índice por nombre, siempre que tenga, en nuestro caso solo year y country tienen nombre."
   ]
  },
  {
   "cell_type": "code",
   "execution_count": null,
   "metadata": {},
   "outputs": [],
   "source": [
    "s.unstack('country')"
   ]
  },
  {
   "cell_type": "markdown",
   "metadata": {},
   "source": [
    "## El método `.unstack`  Parte 3\n",
    "\n",
    "Veamos cómo podemos hacer unstack en varios niveles o índices."
   ]
  },
  {
   "cell_type": "code",
   "execution_count": null,
   "metadata": {},
   "outputs": [],
   "source": [
    "world = pd.read_csv(\"pandas/worldstats.csv\", index_col = [\"country\", \"year\"])\n",
    "s = world.stack()\n",
    "world.head(3)\n",
    "s.head(3)"
   ]
  },
  {
   "cell_type": "code",
   "execution_count": null,
   "metadata": {},
   "outputs": [],
   "source": [
    "s.unstack(level=[\"year\", \"country\"])"
   ]
  },
  {
   "cell_type": "markdown",
   "metadata": {},
   "source": [
    "Como podemos ver, podemos desapilar usando indíces basados en nombre, pero tambíen basados en números, incluso negativos. Si llamamos a unstack solamanete con un índice, por ejemplo:"
   ]
  },
  {
   "cell_type": "code",
   "execution_count": null,
   "metadata": {},
   "outputs": [],
   "source": [
    "s.unstack('year')"
   ]
  },
  {
   "cell_type": "markdown",
   "metadata": {},
   "source": [
    "Y queremos eliminar los valores NaN cuando desapilamos, podemos usar el parámetro fill_value."
   ]
  },
  {
   "cell_type": "code",
   "execution_count": null,
   "metadata": {},
   "outputs": [],
   "source": [
    "s = s.unstack('year', fill_value=0)\n",
    "s.head()"
   ]
  },
  {
   "cell_type": "markdown",
   "metadata": {},
   "source": [
    "## El método `pivot_table`\n",
    "\n",
    "Este método funciona de forma muy parecida al pivot_table de Excel, nos permite hacer operaciones en conjunto sobre un DataFrame. Veámos como funciona. Supongamos que tenemos un nuevo fichero de datos llamado foods.csv que nos indica el nombre, sexo, ciudad, frecuencia, comida y cantidad gastada de varias personas y ciudades. Así que vamos a cargar nuestro nuevo DataFrame"
   ]
  },
  {
   "cell_type": "code",
   "execution_count": null,
   "metadata": {},
   "outputs": [],
   "source": [
    "foods =pd.read_csv(\"pandas/foods.csv\")\n",
    "foods.head(3)"
   ]
  },
  {
   "cell_type": "markdown",
   "metadata": {},
   "source": [
    "Supongamos que queremos obtener la media de gasto por genero:"
   ]
  },
  {
   "cell_type": "code",
   "execution_count": null,
   "metadata": {},
   "outputs": [],
   "source": [
    "foods.pivot_table(values= \"Spend\", index=\"Gender\", aggfunc= \"mean\")"
   ]
  },
  {
   "cell_type": "markdown",
   "metadata": {},
   "source": [
    " El primer argumento values especifica sobre que valor queremos pivotar, el segundo que índice vamos a utilizar para mostrar la información y aggfunc especifica la funcióń de agrupación que queramos hacer. Podemos crear un MultiIndex si suministramos una lista al parámetro index. Veamos como, supongamos que queremos obtener la suma de las comidas compradas indexadas por sexo y además queremos ver en qué ciudad. "
   ]
  },
  {
   "cell_type": "code",
   "execution_count": null,
   "metadata": {},
   "outputs": [],
   "source": [
    "foods.pivot_table(values = \"Spend\", index = [\"Gender\", \"Item\"], columns = \"City\", aggfunc = \"sum\")"
   ]
  },
  {
   "cell_type": "markdown",
   "metadata": {},
   "source": [
    "Es interesante porque hemos obtenido un DataFrame MuliIndex con indices Gender y Item pero además con los valores sumados por Ciudad tambien. También podemos obtener MultiIndex de columnas si añadimos una lista de valores, veamos que ocurre a continuación."
   ]
  },
  {
   "cell_type": "code",
   "execution_count": null,
   "metadata": {},
   "outputs": [],
   "source": [
    "foods.pivot_table(values = \"Spend\", index = [\"Gender\", \"Item\"], columns = [\"Frequency\", \"City\"], aggfunc = \"max\")"
   ]
  },
  {
   "cell_type": "markdown",
   "metadata": {},
   "source": [
    "Podemos llamar tambien a `pivot_table()` directamente desde el objeto pandas, siempre que le pasamos un DataFrame desde el parámetro data."
   ]
  },
  {
   "cell_type": "code",
   "execution_count": null,
   "metadata": {},
   "outputs": [],
   "source": [
    "pd.pivot_table(data = foods, values = \"Spend\", index = [\"Gender\", \"Item\"], columns = ['City'], aggfunc = \"min\").head(3)"
   ]
  },
  {
   "cell_type": "markdown",
   "metadata": {},
   "source": [
    "## El método `melt`\n",
    "\n",
    "\n",
    "Básicamente es la operación inversa del `pivot_table()`, fusiona columnas en una o varias. Vamos a usar un fichero de datos llamado quarters.csv que contiene las ventas por trimestre y comercial."
   ]
  },
  {
   "cell_type": "code",
   "execution_count": null,
   "metadata": {},
   "outputs": [],
   "source": [
    "sales = pd.read_csv(\"pandas/quarters.csv\")\n",
    "sales"
   ]
  },
  {
   "cell_type": "code",
   "execution_count": null,
   "metadata": {},
   "outputs": [],
   "source": [
    "pd.melt(sales, id_vars = \"Salesman\")"
   ]
  },
  {
   "cell_type": "markdown",
   "metadata": {},
   "source": [
    "Aqui vemos que las 4 columnas anteriores se han fusionado en una y ha permanecido inalterada Salesman, lo cual espeficamos con el argumento id_vars. Poremos especificar el nombre de las columnas que se fusionan."
   ]
  },
  {
   "cell_type": "code",
   "execution_count": null,
   "metadata": {},
   "outputs": [],
   "source": [
    "pd.melt(sales, id_vars = \"Salesman\", value_name=\"Revenue\", var_name=\"Quarter\" )"
   ]
  }
 ],
 "metadata": {
  "anaconda-cloud": {},
  "kernelspec": {
   "display_name": "Python 3",
   "language": "python",
   "name": "python3"
  },
  "language_info": {
   "codemirror_mode": {
    "name": "ipython",
    "version": 3
   },
   "file_extension": ".py",
   "mimetype": "text/x-python",
   "name": "python",
   "nbconvert_exporter": "python",
   "pygments_lexer": "ipython3",
   "version": "3.5.2"
  }
 },
 "nbformat": 4,
 "nbformat_minor": 1
}
